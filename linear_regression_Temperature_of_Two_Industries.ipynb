{
  "nbformat": 4,
  "nbformat_minor": 0,
  "metadata": {
    "colab": {
      "provenance": [],
      "authorship_tag": "ABX9TyMmzZw0fO0W+0UlTcmEN74G",
      "include_colab_link": true
    },
    "kernelspec": {
      "name": "python3",
      "display_name": "Python 3"
    },
    "language_info": {
      "name": "python"
    }
  },
  "cells": [
    {
      "cell_type": "markdown",
      "metadata": {
        "id": "view-in-github",
        "colab_type": "text"
      },
      "source": [
        "<a href=\"https://colab.research.google.com/github/Salman-Fazal-7/Prediction-OF-Temperature-of-Two-Industries/blob/main/linear_regression_Temperature_of_Two_Industries.ipynb\" target=\"_parent\"><img src=\"https://colab.research.google.com/assets/colab-badge.svg\" alt=\"Open In Colab\"/></a>"
      ]
    },
    {
      "cell_type": "markdown",
      "metadata": {
        "id": "premier-intellectual"
      },
      "source": [
        "# Import Libraries"
      ]
    },
    {
      "cell_type": "code",
      "execution_count": 1,
      "metadata": {
        "id": "impressive-prerequisite"
      },
      "outputs": [],
      "source": [
        "import numpy as np\n",
        "import pandas as pd\n",
        "import matplotlib.pyplot as plt"
      ]
    },
    {
      "cell_type": "markdown",
      "metadata": {
        "id": "backed-masters"
      },
      "source": [
        "# Dataset"
      ]
    },
    {
      "cell_type": "code",
      "source": [
        "dataset= pd.read_csv('/content/annual_temp.csv')\n",
        "dataset"
      ],
      "metadata": {
        "id": "VxQ0oF7twJsX",
        "colab": {
          "base_uri": "https://localhost:8080/",
          "height": 424
        },
        "outputId": "c18b83d4-d7f8-4d41-db2d-c4f08793a328",
        "collapsed": true
      },
      "execution_count": 2,
      "outputs": [
        {
          "output_type": "execute_result",
          "data": {
            "text/plain": [
              "      Source  Year    Mean\n",
              "0       GCAG  2015  0.8990\n",
              "1    GISTEMP  2015  0.8700\n",
              "2       GCAG  2014  0.7402\n",
              "3    GISTEMP  2014  0.7500\n",
              "4       GCAG  2013  0.6687\n",
              "..       ...   ...     ...\n",
              "267  GISTEMP  1882 -0.1000\n",
              "268     GCAG  1881 -0.0707\n",
              "269  GISTEMP  1881 -0.1200\n",
              "270     GCAG  1880 -0.1247\n",
              "271  GISTEMP  1880 -0.2000\n",
              "\n",
              "[272 rows x 3 columns]"
            ],
            "text/html": [
              "\n",
              "  <div id=\"df-754d4194-5ab4-4a21-9179-c487428273e1\" class=\"colab-df-container\">\n",
              "    <div>\n",
              "<style scoped>\n",
              "    .dataframe tbody tr th:only-of-type {\n",
              "        vertical-align: middle;\n",
              "    }\n",
              "\n",
              "    .dataframe tbody tr th {\n",
              "        vertical-align: top;\n",
              "    }\n",
              "\n",
              "    .dataframe thead th {\n",
              "        text-align: right;\n",
              "    }\n",
              "</style>\n",
              "<table border=\"1\" class=\"dataframe\">\n",
              "  <thead>\n",
              "    <tr style=\"text-align: right;\">\n",
              "      <th></th>\n",
              "      <th>Source</th>\n",
              "      <th>Year</th>\n",
              "      <th>Mean</th>\n",
              "    </tr>\n",
              "  </thead>\n",
              "  <tbody>\n",
              "    <tr>\n",
              "      <th>0</th>\n",
              "      <td>GCAG</td>\n",
              "      <td>2015</td>\n",
              "      <td>0.8990</td>\n",
              "    </tr>\n",
              "    <tr>\n",
              "      <th>1</th>\n",
              "      <td>GISTEMP</td>\n",
              "      <td>2015</td>\n",
              "      <td>0.8700</td>\n",
              "    </tr>\n",
              "    <tr>\n",
              "      <th>2</th>\n",
              "      <td>GCAG</td>\n",
              "      <td>2014</td>\n",
              "      <td>0.7402</td>\n",
              "    </tr>\n",
              "    <tr>\n",
              "      <th>3</th>\n",
              "      <td>GISTEMP</td>\n",
              "      <td>2014</td>\n",
              "      <td>0.7500</td>\n",
              "    </tr>\n",
              "    <tr>\n",
              "      <th>4</th>\n",
              "      <td>GCAG</td>\n",
              "      <td>2013</td>\n",
              "      <td>0.6687</td>\n",
              "    </tr>\n",
              "    <tr>\n",
              "      <th>...</th>\n",
              "      <td>...</td>\n",
              "      <td>...</td>\n",
              "      <td>...</td>\n",
              "    </tr>\n",
              "    <tr>\n",
              "      <th>267</th>\n",
              "      <td>GISTEMP</td>\n",
              "      <td>1882</td>\n",
              "      <td>-0.1000</td>\n",
              "    </tr>\n",
              "    <tr>\n",
              "      <th>268</th>\n",
              "      <td>GCAG</td>\n",
              "      <td>1881</td>\n",
              "      <td>-0.0707</td>\n",
              "    </tr>\n",
              "    <tr>\n",
              "      <th>269</th>\n",
              "      <td>GISTEMP</td>\n",
              "      <td>1881</td>\n",
              "      <td>-0.1200</td>\n",
              "    </tr>\n",
              "    <tr>\n",
              "      <th>270</th>\n",
              "      <td>GCAG</td>\n",
              "      <td>1880</td>\n",
              "      <td>-0.1247</td>\n",
              "    </tr>\n",
              "    <tr>\n",
              "      <th>271</th>\n",
              "      <td>GISTEMP</td>\n",
              "      <td>1880</td>\n",
              "      <td>-0.2000</td>\n",
              "    </tr>\n",
              "  </tbody>\n",
              "</table>\n",
              "<p>272 rows × 3 columns</p>\n",
              "</div>\n",
              "    <div class=\"colab-df-buttons\">\n",
              "\n",
              "  <div class=\"colab-df-container\">\n",
              "    <button class=\"colab-df-convert\" onclick=\"convertToInteractive('df-754d4194-5ab4-4a21-9179-c487428273e1')\"\n",
              "            title=\"Convert this dataframe to an interactive table.\"\n",
              "            style=\"display:none;\">\n",
              "\n",
              "  <svg xmlns=\"http://www.w3.org/2000/svg\" height=\"24px\" viewBox=\"0 -960 960 960\">\n",
              "    <path d=\"M120-120v-720h720v720H120Zm60-500h600v-160H180v160Zm220 220h160v-160H400v160Zm0 220h160v-160H400v160ZM180-400h160v-160H180v160Zm440 0h160v-160H620v160ZM180-180h160v-160H180v160Zm440 0h160v-160H620v160Z\"/>\n",
              "  </svg>\n",
              "    </button>\n",
              "\n",
              "  <style>\n",
              "    .colab-df-container {\n",
              "      display:flex;\n",
              "      gap: 12px;\n",
              "    }\n",
              "\n",
              "    .colab-df-convert {\n",
              "      background-color: #E8F0FE;\n",
              "      border: none;\n",
              "      border-radius: 50%;\n",
              "      cursor: pointer;\n",
              "      display: none;\n",
              "      fill: #1967D2;\n",
              "      height: 32px;\n",
              "      padding: 0 0 0 0;\n",
              "      width: 32px;\n",
              "    }\n",
              "\n",
              "    .colab-df-convert:hover {\n",
              "      background-color: #E2EBFA;\n",
              "      box-shadow: 0px 1px 2px rgba(60, 64, 67, 0.3), 0px 1px 3px 1px rgba(60, 64, 67, 0.15);\n",
              "      fill: #174EA6;\n",
              "    }\n",
              "\n",
              "    .colab-df-buttons div {\n",
              "      margin-bottom: 4px;\n",
              "    }\n",
              "\n",
              "    [theme=dark] .colab-df-convert {\n",
              "      background-color: #3B4455;\n",
              "      fill: #D2E3FC;\n",
              "    }\n",
              "\n",
              "    [theme=dark] .colab-df-convert:hover {\n",
              "      background-color: #434B5C;\n",
              "      box-shadow: 0px 1px 3px 1px rgba(0, 0, 0, 0.15);\n",
              "      filter: drop-shadow(0px 1px 2px rgba(0, 0, 0, 0.3));\n",
              "      fill: #FFFFFF;\n",
              "    }\n",
              "  </style>\n",
              "\n",
              "    <script>\n",
              "      const buttonEl =\n",
              "        document.querySelector('#df-754d4194-5ab4-4a21-9179-c487428273e1 button.colab-df-convert');\n",
              "      buttonEl.style.display =\n",
              "        google.colab.kernel.accessAllowed ? 'block' : 'none';\n",
              "\n",
              "      async function convertToInteractive(key) {\n",
              "        const element = document.querySelector('#df-754d4194-5ab4-4a21-9179-c487428273e1');\n",
              "        const dataTable =\n",
              "          await google.colab.kernel.invokeFunction('convertToInteractive',\n",
              "                                                    [key], {});\n",
              "        if (!dataTable) return;\n",
              "\n",
              "        const docLinkHtml = 'Like what you see? Visit the ' +\n",
              "          '<a target=\"_blank\" href=https://colab.research.google.com/notebooks/data_table.ipynb>data table notebook</a>'\n",
              "          + ' to learn more about interactive tables.';\n",
              "        element.innerHTML = '';\n",
              "        dataTable['output_type'] = 'display_data';\n",
              "        await google.colab.output.renderOutput(dataTable, element);\n",
              "        const docLink = document.createElement('div');\n",
              "        docLink.innerHTML = docLinkHtml;\n",
              "        element.appendChild(docLink);\n",
              "      }\n",
              "    </script>\n",
              "  </div>\n",
              "\n",
              "\n",
              "<div id=\"df-a00582bc-9868-49e2-89fe-0a985015bb62\">\n",
              "  <button class=\"colab-df-quickchart\" onclick=\"quickchart('df-a00582bc-9868-49e2-89fe-0a985015bb62')\"\n",
              "            title=\"Suggest charts\"\n",
              "            style=\"display:none;\">\n",
              "\n",
              "<svg xmlns=\"http://www.w3.org/2000/svg\" height=\"24px\"viewBox=\"0 0 24 24\"\n",
              "     width=\"24px\">\n",
              "    <g>\n",
              "        <path d=\"M19 3H5c-1.1 0-2 .9-2 2v14c0 1.1.9 2 2 2h14c1.1 0 2-.9 2-2V5c0-1.1-.9-2-2-2zM9 17H7v-7h2v7zm4 0h-2V7h2v10zm4 0h-2v-4h2v4z\"/>\n",
              "    </g>\n",
              "</svg>\n",
              "  </button>\n",
              "\n",
              "<style>\n",
              "  .colab-df-quickchart {\n",
              "      --bg-color: #E8F0FE;\n",
              "      --fill-color: #1967D2;\n",
              "      --hover-bg-color: #E2EBFA;\n",
              "      --hover-fill-color: #174EA6;\n",
              "      --disabled-fill-color: #AAA;\n",
              "      --disabled-bg-color: #DDD;\n",
              "  }\n",
              "\n",
              "  [theme=dark] .colab-df-quickchart {\n",
              "      --bg-color: #3B4455;\n",
              "      --fill-color: #D2E3FC;\n",
              "      --hover-bg-color: #434B5C;\n",
              "      --hover-fill-color: #FFFFFF;\n",
              "      --disabled-bg-color: #3B4455;\n",
              "      --disabled-fill-color: #666;\n",
              "  }\n",
              "\n",
              "  .colab-df-quickchart {\n",
              "    background-color: var(--bg-color);\n",
              "    border: none;\n",
              "    border-radius: 50%;\n",
              "    cursor: pointer;\n",
              "    display: none;\n",
              "    fill: var(--fill-color);\n",
              "    height: 32px;\n",
              "    padding: 0;\n",
              "    width: 32px;\n",
              "  }\n",
              "\n",
              "  .colab-df-quickchart:hover {\n",
              "    background-color: var(--hover-bg-color);\n",
              "    box-shadow: 0 1px 2px rgba(60, 64, 67, 0.3), 0 1px 3px 1px rgba(60, 64, 67, 0.15);\n",
              "    fill: var(--button-hover-fill-color);\n",
              "  }\n",
              "\n",
              "  .colab-df-quickchart-complete:disabled,\n",
              "  .colab-df-quickchart-complete:disabled:hover {\n",
              "    background-color: var(--disabled-bg-color);\n",
              "    fill: var(--disabled-fill-color);\n",
              "    box-shadow: none;\n",
              "  }\n",
              "\n",
              "  .colab-df-spinner {\n",
              "    border: 2px solid var(--fill-color);\n",
              "    border-color: transparent;\n",
              "    border-bottom-color: var(--fill-color);\n",
              "    animation:\n",
              "      spin 1s steps(1) infinite;\n",
              "  }\n",
              "\n",
              "  @keyframes spin {\n",
              "    0% {\n",
              "      border-color: transparent;\n",
              "      border-bottom-color: var(--fill-color);\n",
              "      border-left-color: var(--fill-color);\n",
              "    }\n",
              "    20% {\n",
              "      border-color: transparent;\n",
              "      border-left-color: var(--fill-color);\n",
              "      border-top-color: var(--fill-color);\n",
              "    }\n",
              "    30% {\n",
              "      border-color: transparent;\n",
              "      border-left-color: var(--fill-color);\n",
              "      border-top-color: var(--fill-color);\n",
              "      border-right-color: var(--fill-color);\n",
              "    }\n",
              "    40% {\n",
              "      border-color: transparent;\n",
              "      border-right-color: var(--fill-color);\n",
              "      border-top-color: var(--fill-color);\n",
              "    }\n",
              "    60% {\n",
              "      border-color: transparent;\n",
              "      border-right-color: var(--fill-color);\n",
              "    }\n",
              "    80% {\n",
              "      border-color: transparent;\n",
              "      border-right-color: var(--fill-color);\n",
              "      border-bottom-color: var(--fill-color);\n",
              "    }\n",
              "    90% {\n",
              "      border-color: transparent;\n",
              "      border-bottom-color: var(--fill-color);\n",
              "    }\n",
              "  }\n",
              "</style>\n",
              "\n",
              "  <script>\n",
              "    async function quickchart(key) {\n",
              "      const quickchartButtonEl =\n",
              "        document.querySelector('#' + key + ' button');\n",
              "      quickchartButtonEl.disabled = true;  // To prevent multiple clicks.\n",
              "      quickchartButtonEl.classList.add('colab-df-spinner');\n",
              "      try {\n",
              "        const charts = await google.colab.kernel.invokeFunction(\n",
              "            'suggestCharts', [key], {});\n",
              "      } catch (error) {\n",
              "        console.error('Error during call to suggestCharts:', error);\n",
              "      }\n",
              "      quickchartButtonEl.classList.remove('colab-df-spinner');\n",
              "      quickchartButtonEl.classList.add('colab-df-quickchart-complete');\n",
              "    }\n",
              "    (() => {\n",
              "      let quickchartButtonEl =\n",
              "        document.querySelector('#df-a00582bc-9868-49e2-89fe-0a985015bb62 button');\n",
              "      quickchartButtonEl.style.display =\n",
              "        google.colab.kernel.accessAllowed ? 'block' : 'none';\n",
              "    })();\n",
              "  </script>\n",
              "</div>\n",
              "\n",
              "  <div id=\"id_46060578-2934-4632-afe0-6a3979dc95f8\">\n",
              "    <style>\n",
              "      .colab-df-generate {\n",
              "        background-color: #E8F0FE;\n",
              "        border: none;\n",
              "        border-radius: 50%;\n",
              "        cursor: pointer;\n",
              "        display: none;\n",
              "        fill: #1967D2;\n",
              "        height: 32px;\n",
              "        padding: 0 0 0 0;\n",
              "        width: 32px;\n",
              "      }\n",
              "\n",
              "      .colab-df-generate:hover {\n",
              "        background-color: #E2EBFA;\n",
              "        box-shadow: 0px 1px 2px rgba(60, 64, 67, 0.3), 0px 1px 3px 1px rgba(60, 64, 67, 0.15);\n",
              "        fill: #174EA6;\n",
              "      }\n",
              "\n",
              "      [theme=dark] .colab-df-generate {\n",
              "        background-color: #3B4455;\n",
              "        fill: #D2E3FC;\n",
              "      }\n",
              "\n",
              "      [theme=dark] .colab-df-generate:hover {\n",
              "        background-color: #434B5C;\n",
              "        box-shadow: 0px 1px 3px 1px rgba(0, 0, 0, 0.15);\n",
              "        filter: drop-shadow(0px 1px 2px rgba(0, 0, 0, 0.3));\n",
              "        fill: #FFFFFF;\n",
              "      }\n",
              "    </style>\n",
              "    <button class=\"colab-df-generate\" onclick=\"generateWithVariable('dataset')\"\n",
              "            title=\"Generate code using this dataframe.\"\n",
              "            style=\"display:none;\">\n",
              "\n",
              "  <svg xmlns=\"http://www.w3.org/2000/svg\" height=\"24px\"viewBox=\"0 0 24 24\"\n",
              "       width=\"24px\">\n",
              "    <path d=\"M7,19H8.4L18.45,9,17,7.55,7,17.6ZM5,21V16.75L18.45,3.32a2,2,0,0,1,2.83,0l1.4,1.43a1.91,1.91,0,0,1,.58,1.4,1.91,1.91,0,0,1-.58,1.4L9.25,21ZM18.45,9,17,7.55Zm-12,3A5.31,5.31,0,0,0,4.9,8.1,5.31,5.31,0,0,0,1,6.5,5.31,5.31,0,0,0,4.9,4.9,5.31,5.31,0,0,0,6.5,1,5.31,5.31,0,0,0,8.1,4.9,5.31,5.31,0,0,0,12,6.5,5.46,5.46,0,0,0,6.5,12Z\"/>\n",
              "  </svg>\n",
              "    </button>\n",
              "    <script>\n",
              "      (() => {\n",
              "      const buttonEl =\n",
              "        document.querySelector('#id_46060578-2934-4632-afe0-6a3979dc95f8 button.colab-df-generate');\n",
              "      buttonEl.style.display =\n",
              "        google.colab.kernel.accessAllowed ? 'block' : 'none';\n",
              "\n",
              "      buttonEl.onclick = () => {\n",
              "        google.colab.notebook.generateWithVariable('dataset');\n",
              "      }\n",
              "      })();\n",
              "    </script>\n",
              "  </div>\n",
              "\n",
              "    </div>\n",
              "  </div>\n"
            ],
            "application/vnd.google.colaboratory.intrinsic+json": {
              "type": "dataframe",
              "variable_name": "dataset",
              "summary": "{\n  \"name\": \"dataset\",\n  \"rows\": 272,\n  \"fields\": [\n    {\n      \"column\": \"Source\",\n      \"properties\": {\n        \"dtype\": \"category\",\n        \"num_unique_values\": 2,\n        \"samples\": [\n          \"GISTEMP\",\n          \"GCAG\"\n        ],\n        \"semantic_type\": \"\",\n        \"description\": \"\"\n      }\n    },\n    {\n      \"column\": \"Year\",\n      \"properties\": {\n        \"dtype\": \"number\",\n        \"std\": 39,\n        \"min\": 1880,\n        \"max\": 2015,\n        \"num_unique_values\": 136,\n        \"samples\": [\n          1942,\n          1970\n        ],\n        \"semantic_type\": \"\",\n        \"description\": \"\"\n      }\n    },\n    {\n      \"column\": \"Mean\",\n      \"properties\": {\n        \"dtype\": \"number\",\n        \"std\": 0.3121310329727368,\n        \"min\": -0.48,\n        \"max\": 0.899,\n        \"num_unique_values\": 213,\n        \"samples\": [\n          0.61,\n          -0.3221\n        ],\n        \"semantic_type\": \"\",\n        \"description\": \"\"\n      }\n    }\n  ]\n}"
            }
          },
          "metadata": {},
          "execution_count": 2
        }
      ]
    },
    {
      "cell_type": "markdown",
      "source": [
        "# **Separate** **the** **data** **into** **two** **datasets**,**one** **for** **each** **industry**"
      ],
      "metadata": {
        "id": "Yu7nms3OFK-1"
      }
    },
    {
      "cell_type": "code",
      "source": [
        "Industry1 = dataset[dataset[\"Source\"].str.contains(\"GCAG\")]\n",
        "Industry1"
      ],
      "metadata": {
        "colab": {
          "base_uri": "https://localhost:8080/",
          "height": 424
        },
        "id": "hTVLPaODiODq",
        "outputId": "d8907eb9-cab4-45d8-f6af-ec142734501f",
        "collapsed": true
      },
      "execution_count": 3,
      "outputs": [
        {
          "output_type": "execute_result",
          "data": {
            "text/plain": [
              "    Source  Year    Mean\n",
              "0     GCAG  2015  0.8990\n",
              "2     GCAG  2014  0.7402\n",
              "4     GCAG  2013  0.6687\n",
              "6     GCAG  2012  0.6219\n",
              "8     GCAG  2011  0.5759\n",
              "..     ...   ...     ...\n",
              "262   GCAG  1884 -0.2099\n",
              "264   GCAG  1883 -0.1481\n",
              "266   GCAG  1882 -0.0710\n",
              "268   GCAG  1881 -0.0707\n",
              "270   GCAG  1880 -0.1247\n",
              "\n",
              "[136 rows x 3 columns]"
            ],
            "text/html": [
              "\n",
              "  <div id=\"df-4c5420d0-6434-4654-80c4-30512f355235\" class=\"colab-df-container\">\n",
              "    <div>\n",
              "<style scoped>\n",
              "    .dataframe tbody tr th:only-of-type {\n",
              "        vertical-align: middle;\n",
              "    }\n",
              "\n",
              "    .dataframe tbody tr th {\n",
              "        vertical-align: top;\n",
              "    }\n",
              "\n",
              "    .dataframe thead th {\n",
              "        text-align: right;\n",
              "    }\n",
              "</style>\n",
              "<table border=\"1\" class=\"dataframe\">\n",
              "  <thead>\n",
              "    <tr style=\"text-align: right;\">\n",
              "      <th></th>\n",
              "      <th>Source</th>\n",
              "      <th>Year</th>\n",
              "      <th>Mean</th>\n",
              "    </tr>\n",
              "  </thead>\n",
              "  <tbody>\n",
              "    <tr>\n",
              "      <th>0</th>\n",
              "      <td>GCAG</td>\n",
              "      <td>2015</td>\n",
              "      <td>0.8990</td>\n",
              "    </tr>\n",
              "    <tr>\n",
              "      <th>2</th>\n",
              "      <td>GCAG</td>\n",
              "      <td>2014</td>\n",
              "      <td>0.7402</td>\n",
              "    </tr>\n",
              "    <tr>\n",
              "      <th>4</th>\n",
              "      <td>GCAG</td>\n",
              "      <td>2013</td>\n",
              "      <td>0.6687</td>\n",
              "    </tr>\n",
              "    <tr>\n",
              "      <th>6</th>\n",
              "      <td>GCAG</td>\n",
              "      <td>2012</td>\n",
              "      <td>0.6219</td>\n",
              "    </tr>\n",
              "    <tr>\n",
              "      <th>8</th>\n",
              "      <td>GCAG</td>\n",
              "      <td>2011</td>\n",
              "      <td>0.5759</td>\n",
              "    </tr>\n",
              "    <tr>\n",
              "      <th>...</th>\n",
              "      <td>...</td>\n",
              "      <td>...</td>\n",
              "      <td>...</td>\n",
              "    </tr>\n",
              "    <tr>\n",
              "      <th>262</th>\n",
              "      <td>GCAG</td>\n",
              "      <td>1884</td>\n",
              "      <td>-0.2099</td>\n",
              "    </tr>\n",
              "    <tr>\n",
              "      <th>264</th>\n",
              "      <td>GCAG</td>\n",
              "      <td>1883</td>\n",
              "      <td>-0.1481</td>\n",
              "    </tr>\n",
              "    <tr>\n",
              "      <th>266</th>\n",
              "      <td>GCAG</td>\n",
              "      <td>1882</td>\n",
              "      <td>-0.0710</td>\n",
              "    </tr>\n",
              "    <tr>\n",
              "      <th>268</th>\n",
              "      <td>GCAG</td>\n",
              "      <td>1881</td>\n",
              "      <td>-0.0707</td>\n",
              "    </tr>\n",
              "    <tr>\n",
              "      <th>270</th>\n",
              "      <td>GCAG</td>\n",
              "      <td>1880</td>\n",
              "      <td>-0.1247</td>\n",
              "    </tr>\n",
              "  </tbody>\n",
              "</table>\n",
              "<p>136 rows × 3 columns</p>\n",
              "</div>\n",
              "    <div class=\"colab-df-buttons\">\n",
              "\n",
              "  <div class=\"colab-df-container\">\n",
              "    <button class=\"colab-df-convert\" onclick=\"convertToInteractive('df-4c5420d0-6434-4654-80c4-30512f355235')\"\n",
              "            title=\"Convert this dataframe to an interactive table.\"\n",
              "            style=\"display:none;\">\n",
              "\n",
              "  <svg xmlns=\"http://www.w3.org/2000/svg\" height=\"24px\" viewBox=\"0 -960 960 960\">\n",
              "    <path d=\"M120-120v-720h720v720H120Zm60-500h600v-160H180v160Zm220 220h160v-160H400v160Zm0 220h160v-160H400v160ZM180-400h160v-160H180v160Zm440 0h160v-160H620v160ZM180-180h160v-160H180v160Zm440 0h160v-160H620v160Z\"/>\n",
              "  </svg>\n",
              "    </button>\n",
              "\n",
              "  <style>\n",
              "    .colab-df-container {\n",
              "      display:flex;\n",
              "      gap: 12px;\n",
              "    }\n",
              "\n",
              "    .colab-df-convert {\n",
              "      background-color: #E8F0FE;\n",
              "      border: none;\n",
              "      border-radius: 50%;\n",
              "      cursor: pointer;\n",
              "      display: none;\n",
              "      fill: #1967D2;\n",
              "      height: 32px;\n",
              "      padding: 0 0 0 0;\n",
              "      width: 32px;\n",
              "    }\n",
              "\n",
              "    .colab-df-convert:hover {\n",
              "      background-color: #E2EBFA;\n",
              "      box-shadow: 0px 1px 2px rgba(60, 64, 67, 0.3), 0px 1px 3px 1px rgba(60, 64, 67, 0.15);\n",
              "      fill: #174EA6;\n",
              "    }\n",
              "\n",
              "    .colab-df-buttons div {\n",
              "      margin-bottom: 4px;\n",
              "    }\n",
              "\n",
              "    [theme=dark] .colab-df-convert {\n",
              "      background-color: #3B4455;\n",
              "      fill: #D2E3FC;\n",
              "    }\n",
              "\n",
              "    [theme=dark] .colab-df-convert:hover {\n",
              "      background-color: #434B5C;\n",
              "      box-shadow: 0px 1px 3px 1px rgba(0, 0, 0, 0.15);\n",
              "      filter: drop-shadow(0px 1px 2px rgba(0, 0, 0, 0.3));\n",
              "      fill: #FFFFFF;\n",
              "    }\n",
              "  </style>\n",
              "\n",
              "    <script>\n",
              "      const buttonEl =\n",
              "        document.querySelector('#df-4c5420d0-6434-4654-80c4-30512f355235 button.colab-df-convert');\n",
              "      buttonEl.style.display =\n",
              "        google.colab.kernel.accessAllowed ? 'block' : 'none';\n",
              "\n",
              "      async function convertToInteractive(key) {\n",
              "        const element = document.querySelector('#df-4c5420d0-6434-4654-80c4-30512f355235');\n",
              "        const dataTable =\n",
              "          await google.colab.kernel.invokeFunction('convertToInteractive',\n",
              "                                                    [key], {});\n",
              "        if (!dataTable) return;\n",
              "\n",
              "        const docLinkHtml = 'Like what you see? Visit the ' +\n",
              "          '<a target=\"_blank\" href=https://colab.research.google.com/notebooks/data_table.ipynb>data table notebook</a>'\n",
              "          + ' to learn more about interactive tables.';\n",
              "        element.innerHTML = '';\n",
              "        dataTable['output_type'] = 'display_data';\n",
              "        await google.colab.output.renderOutput(dataTable, element);\n",
              "        const docLink = document.createElement('div');\n",
              "        docLink.innerHTML = docLinkHtml;\n",
              "        element.appendChild(docLink);\n",
              "      }\n",
              "    </script>\n",
              "  </div>\n",
              "\n",
              "\n",
              "<div id=\"df-2ca6fb75-c301-4181-9996-b0a42998b56c\">\n",
              "  <button class=\"colab-df-quickchart\" onclick=\"quickchart('df-2ca6fb75-c301-4181-9996-b0a42998b56c')\"\n",
              "            title=\"Suggest charts\"\n",
              "            style=\"display:none;\">\n",
              "\n",
              "<svg xmlns=\"http://www.w3.org/2000/svg\" height=\"24px\"viewBox=\"0 0 24 24\"\n",
              "     width=\"24px\">\n",
              "    <g>\n",
              "        <path d=\"M19 3H5c-1.1 0-2 .9-2 2v14c0 1.1.9 2 2 2h14c1.1 0 2-.9 2-2V5c0-1.1-.9-2-2-2zM9 17H7v-7h2v7zm4 0h-2V7h2v10zm4 0h-2v-4h2v4z\"/>\n",
              "    </g>\n",
              "</svg>\n",
              "  </button>\n",
              "\n",
              "<style>\n",
              "  .colab-df-quickchart {\n",
              "      --bg-color: #E8F0FE;\n",
              "      --fill-color: #1967D2;\n",
              "      --hover-bg-color: #E2EBFA;\n",
              "      --hover-fill-color: #174EA6;\n",
              "      --disabled-fill-color: #AAA;\n",
              "      --disabled-bg-color: #DDD;\n",
              "  }\n",
              "\n",
              "  [theme=dark] .colab-df-quickchart {\n",
              "      --bg-color: #3B4455;\n",
              "      --fill-color: #D2E3FC;\n",
              "      --hover-bg-color: #434B5C;\n",
              "      --hover-fill-color: #FFFFFF;\n",
              "      --disabled-bg-color: #3B4455;\n",
              "      --disabled-fill-color: #666;\n",
              "  }\n",
              "\n",
              "  .colab-df-quickchart {\n",
              "    background-color: var(--bg-color);\n",
              "    border: none;\n",
              "    border-radius: 50%;\n",
              "    cursor: pointer;\n",
              "    display: none;\n",
              "    fill: var(--fill-color);\n",
              "    height: 32px;\n",
              "    padding: 0;\n",
              "    width: 32px;\n",
              "  }\n",
              "\n",
              "  .colab-df-quickchart:hover {\n",
              "    background-color: var(--hover-bg-color);\n",
              "    box-shadow: 0 1px 2px rgba(60, 64, 67, 0.3), 0 1px 3px 1px rgba(60, 64, 67, 0.15);\n",
              "    fill: var(--button-hover-fill-color);\n",
              "  }\n",
              "\n",
              "  .colab-df-quickchart-complete:disabled,\n",
              "  .colab-df-quickchart-complete:disabled:hover {\n",
              "    background-color: var(--disabled-bg-color);\n",
              "    fill: var(--disabled-fill-color);\n",
              "    box-shadow: none;\n",
              "  }\n",
              "\n",
              "  .colab-df-spinner {\n",
              "    border: 2px solid var(--fill-color);\n",
              "    border-color: transparent;\n",
              "    border-bottom-color: var(--fill-color);\n",
              "    animation:\n",
              "      spin 1s steps(1) infinite;\n",
              "  }\n",
              "\n",
              "  @keyframes spin {\n",
              "    0% {\n",
              "      border-color: transparent;\n",
              "      border-bottom-color: var(--fill-color);\n",
              "      border-left-color: var(--fill-color);\n",
              "    }\n",
              "    20% {\n",
              "      border-color: transparent;\n",
              "      border-left-color: var(--fill-color);\n",
              "      border-top-color: var(--fill-color);\n",
              "    }\n",
              "    30% {\n",
              "      border-color: transparent;\n",
              "      border-left-color: var(--fill-color);\n",
              "      border-top-color: var(--fill-color);\n",
              "      border-right-color: var(--fill-color);\n",
              "    }\n",
              "    40% {\n",
              "      border-color: transparent;\n",
              "      border-right-color: var(--fill-color);\n",
              "      border-top-color: var(--fill-color);\n",
              "    }\n",
              "    60% {\n",
              "      border-color: transparent;\n",
              "      border-right-color: var(--fill-color);\n",
              "    }\n",
              "    80% {\n",
              "      border-color: transparent;\n",
              "      border-right-color: var(--fill-color);\n",
              "      border-bottom-color: var(--fill-color);\n",
              "    }\n",
              "    90% {\n",
              "      border-color: transparent;\n",
              "      border-bottom-color: var(--fill-color);\n",
              "    }\n",
              "  }\n",
              "</style>\n",
              "\n",
              "  <script>\n",
              "    async function quickchart(key) {\n",
              "      const quickchartButtonEl =\n",
              "        document.querySelector('#' + key + ' button');\n",
              "      quickchartButtonEl.disabled = true;  // To prevent multiple clicks.\n",
              "      quickchartButtonEl.classList.add('colab-df-spinner');\n",
              "      try {\n",
              "        const charts = await google.colab.kernel.invokeFunction(\n",
              "            'suggestCharts', [key], {});\n",
              "      } catch (error) {\n",
              "        console.error('Error during call to suggestCharts:', error);\n",
              "      }\n",
              "      quickchartButtonEl.classList.remove('colab-df-spinner');\n",
              "      quickchartButtonEl.classList.add('colab-df-quickchart-complete');\n",
              "    }\n",
              "    (() => {\n",
              "      let quickchartButtonEl =\n",
              "        document.querySelector('#df-2ca6fb75-c301-4181-9996-b0a42998b56c button');\n",
              "      quickchartButtonEl.style.display =\n",
              "        google.colab.kernel.accessAllowed ? 'block' : 'none';\n",
              "    })();\n",
              "  </script>\n",
              "</div>\n",
              "\n",
              "  <div id=\"id_0b502694-2c27-472d-9a03-07fcc5531e41\">\n",
              "    <style>\n",
              "      .colab-df-generate {\n",
              "        background-color: #E8F0FE;\n",
              "        border: none;\n",
              "        border-radius: 50%;\n",
              "        cursor: pointer;\n",
              "        display: none;\n",
              "        fill: #1967D2;\n",
              "        height: 32px;\n",
              "        padding: 0 0 0 0;\n",
              "        width: 32px;\n",
              "      }\n",
              "\n",
              "      .colab-df-generate:hover {\n",
              "        background-color: #E2EBFA;\n",
              "        box-shadow: 0px 1px 2px rgba(60, 64, 67, 0.3), 0px 1px 3px 1px rgba(60, 64, 67, 0.15);\n",
              "        fill: #174EA6;\n",
              "      }\n",
              "\n",
              "      [theme=dark] .colab-df-generate {\n",
              "        background-color: #3B4455;\n",
              "        fill: #D2E3FC;\n",
              "      }\n",
              "\n",
              "      [theme=dark] .colab-df-generate:hover {\n",
              "        background-color: #434B5C;\n",
              "        box-shadow: 0px 1px 3px 1px rgba(0, 0, 0, 0.15);\n",
              "        filter: drop-shadow(0px 1px 2px rgba(0, 0, 0, 0.3));\n",
              "        fill: #FFFFFF;\n",
              "      }\n",
              "    </style>\n",
              "    <button class=\"colab-df-generate\" onclick=\"generateWithVariable('Industry1')\"\n",
              "            title=\"Generate code using this dataframe.\"\n",
              "            style=\"display:none;\">\n",
              "\n",
              "  <svg xmlns=\"http://www.w3.org/2000/svg\" height=\"24px\"viewBox=\"0 0 24 24\"\n",
              "       width=\"24px\">\n",
              "    <path d=\"M7,19H8.4L18.45,9,17,7.55,7,17.6ZM5,21V16.75L18.45,3.32a2,2,0,0,1,2.83,0l1.4,1.43a1.91,1.91,0,0,1,.58,1.4,1.91,1.91,0,0,1-.58,1.4L9.25,21ZM18.45,9,17,7.55Zm-12,3A5.31,5.31,0,0,0,4.9,8.1,5.31,5.31,0,0,0,1,6.5,5.31,5.31,0,0,0,4.9,4.9,5.31,5.31,0,0,0,6.5,1,5.31,5.31,0,0,0,8.1,4.9,5.31,5.31,0,0,0,12,6.5,5.46,5.46,0,0,0,6.5,12Z\"/>\n",
              "  </svg>\n",
              "    </button>\n",
              "    <script>\n",
              "      (() => {\n",
              "      const buttonEl =\n",
              "        document.querySelector('#id_0b502694-2c27-472d-9a03-07fcc5531e41 button.colab-df-generate');\n",
              "      buttonEl.style.display =\n",
              "        google.colab.kernel.accessAllowed ? 'block' : 'none';\n",
              "\n",
              "      buttonEl.onclick = () => {\n",
              "        google.colab.notebook.generateWithVariable('Industry1');\n",
              "      }\n",
              "      })();\n",
              "    </script>\n",
              "  </div>\n",
              "\n",
              "    </div>\n",
              "  </div>\n"
            ],
            "application/vnd.google.colaboratory.intrinsic+json": {
              "type": "dataframe",
              "variable_name": "Industry1",
              "summary": "{\n  \"name\": \"Industry1\",\n  \"rows\": 136,\n  \"fields\": [\n    {\n      \"column\": \"Source\",\n      \"properties\": {\n        \"dtype\": \"category\",\n        \"num_unique_values\": 1,\n        \"samples\": [\n          \"GCAG\"\n        ],\n        \"semantic_type\": \"\",\n        \"description\": \"\"\n      }\n    },\n    {\n      \"column\": \"Year\",\n      \"properties\": {\n        \"dtype\": \"number\",\n        \"std\": 39,\n        \"min\": 1880,\n        \"max\": 2015,\n        \"num_unique_values\": 136,\n        \"samples\": [\n          1942\n        ],\n        \"semantic_type\": \"\",\n        \"description\": \"\"\n      }\n    },\n    {\n      \"column\": \"Mean\",\n      \"properties\": {\n        \"dtype\": \"number\",\n        \"std\": 0.3066492305891456,\n        \"min\": -0.4441,\n        \"max\": 0.899,\n        \"num_unique_values\": 135,\n        \"samples\": [\n          -0.2979\n        ],\n        \"semantic_type\": \"\",\n        \"description\": \"\"\n      }\n    }\n  ]\n}"
            }
          },
          "metadata": {},
          "execution_count": 3
        }
      ]
    },
    {
      "cell_type": "code",
      "source": [
        "Industry2 = dataset[dataset[\"Source\"].str.contains(\"GISTEMP\")]\n",
        "Industry2"
      ],
      "metadata": {
        "id": "PYSP5vjYAMOX",
        "colab": {
          "base_uri": "https://localhost:8080/",
          "height": 424
        },
        "outputId": "12ff2e5a-933d-4ab1-ab43-8e119394d4a6"
      },
      "execution_count": 6,
      "outputs": [
        {
          "output_type": "execute_result",
          "data": {
            "text/plain": [
              "      Source  Year  Mean\n",
              "1    GISTEMP  2015  0.87\n",
              "3    GISTEMP  2014  0.75\n",
              "5    GISTEMP  2013  0.66\n",
              "7    GISTEMP  2012  0.64\n",
              "9    GISTEMP  2011  0.61\n",
              "..       ...   ...   ...\n",
              "263  GISTEMP  1884 -0.28\n",
              "265  GISTEMP  1883 -0.20\n",
              "267  GISTEMP  1882 -0.10\n",
              "269  GISTEMP  1881 -0.12\n",
              "271  GISTEMP  1880 -0.20\n",
              "\n",
              "[136 rows x 3 columns]"
            ],
            "text/html": [
              "\n",
              "  <div id=\"df-2790b3dd-710a-485c-9384-c0f0fe2aab35\" class=\"colab-df-container\">\n",
              "    <div>\n",
              "<style scoped>\n",
              "    .dataframe tbody tr th:only-of-type {\n",
              "        vertical-align: middle;\n",
              "    }\n",
              "\n",
              "    .dataframe tbody tr th {\n",
              "        vertical-align: top;\n",
              "    }\n",
              "\n",
              "    .dataframe thead th {\n",
              "        text-align: right;\n",
              "    }\n",
              "</style>\n",
              "<table border=\"1\" class=\"dataframe\">\n",
              "  <thead>\n",
              "    <tr style=\"text-align: right;\">\n",
              "      <th></th>\n",
              "      <th>Source</th>\n",
              "      <th>Year</th>\n",
              "      <th>Mean</th>\n",
              "    </tr>\n",
              "  </thead>\n",
              "  <tbody>\n",
              "    <tr>\n",
              "      <th>1</th>\n",
              "      <td>GISTEMP</td>\n",
              "      <td>2015</td>\n",
              "      <td>0.87</td>\n",
              "    </tr>\n",
              "    <tr>\n",
              "      <th>3</th>\n",
              "      <td>GISTEMP</td>\n",
              "      <td>2014</td>\n",
              "      <td>0.75</td>\n",
              "    </tr>\n",
              "    <tr>\n",
              "      <th>5</th>\n",
              "      <td>GISTEMP</td>\n",
              "      <td>2013</td>\n",
              "      <td>0.66</td>\n",
              "    </tr>\n",
              "    <tr>\n",
              "      <th>7</th>\n",
              "      <td>GISTEMP</td>\n",
              "      <td>2012</td>\n",
              "      <td>0.64</td>\n",
              "    </tr>\n",
              "    <tr>\n",
              "      <th>9</th>\n",
              "      <td>GISTEMP</td>\n",
              "      <td>2011</td>\n",
              "      <td>0.61</td>\n",
              "    </tr>\n",
              "    <tr>\n",
              "      <th>...</th>\n",
              "      <td>...</td>\n",
              "      <td>...</td>\n",
              "      <td>...</td>\n",
              "    </tr>\n",
              "    <tr>\n",
              "      <th>263</th>\n",
              "      <td>GISTEMP</td>\n",
              "      <td>1884</td>\n",
              "      <td>-0.28</td>\n",
              "    </tr>\n",
              "    <tr>\n",
              "      <th>265</th>\n",
              "      <td>GISTEMP</td>\n",
              "      <td>1883</td>\n",
              "      <td>-0.20</td>\n",
              "    </tr>\n",
              "    <tr>\n",
              "      <th>267</th>\n",
              "      <td>GISTEMP</td>\n",
              "      <td>1882</td>\n",
              "      <td>-0.10</td>\n",
              "    </tr>\n",
              "    <tr>\n",
              "      <th>269</th>\n",
              "      <td>GISTEMP</td>\n",
              "      <td>1881</td>\n",
              "      <td>-0.12</td>\n",
              "    </tr>\n",
              "    <tr>\n",
              "      <th>271</th>\n",
              "      <td>GISTEMP</td>\n",
              "      <td>1880</td>\n",
              "      <td>-0.20</td>\n",
              "    </tr>\n",
              "  </tbody>\n",
              "</table>\n",
              "<p>136 rows × 3 columns</p>\n",
              "</div>\n",
              "    <div class=\"colab-df-buttons\">\n",
              "\n",
              "  <div class=\"colab-df-container\">\n",
              "    <button class=\"colab-df-convert\" onclick=\"convertToInteractive('df-2790b3dd-710a-485c-9384-c0f0fe2aab35')\"\n",
              "            title=\"Convert this dataframe to an interactive table.\"\n",
              "            style=\"display:none;\">\n",
              "\n",
              "  <svg xmlns=\"http://www.w3.org/2000/svg\" height=\"24px\" viewBox=\"0 -960 960 960\">\n",
              "    <path d=\"M120-120v-720h720v720H120Zm60-500h600v-160H180v160Zm220 220h160v-160H400v160Zm0 220h160v-160H400v160ZM180-400h160v-160H180v160Zm440 0h160v-160H620v160ZM180-180h160v-160H180v160Zm440 0h160v-160H620v160Z\"/>\n",
              "  </svg>\n",
              "    </button>\n",
              "\n",
              "  <style>\n",
              "    .colab-df-container {\n",
              "      display:flex;\n",
              "      gap: 12px;\n",
              "    }\n",
              "\n",
              "    .colab-df-convert {\n",
              "      background-color: #E8F0FE;\n",
              "      border: none;\n",
              "      border-radius: 50%;\n",
              "      cursor: pointer;\n",
              "      display: none;\n",
              "      fill: #1967D2;\n",
              "      height: 32px;\n",
              "      padding: 0 0 0 0;\n",
              "      width: 32px;\n",
              "    }\n",
              "\n",
              "    .colab-df-convert:hover {\n",
              "      background-color: #E2EBFA;\n",
              "      box-shadow: 0px 1px 2px rgba(60, 64, 67, 0.3), 0px 1px 3px 1px rgba(60, 64, 67, 0.15);\n",
              "      fill: #174EA6;\n",
              "    }\n",
              "\n",
              "    .colab-df-buttons div {\n",
              "      margin-bottom: 4px;\n",
              "    }\n",
              "\n",
              "    [theme=dark] .colab-df-convert {\n",
              "      background-color: #3B4455;\n",
              "      fill: #D2E3FC;\n",
              "    }\n",
              "\n",
              "    [theme=dark] .colab-df-convert:hover {\n",
              "      background-color: #434B5C;\n",
              "      box-shadow: 0px 1px 3px 1px rgba(0, 0, 0, 0.15);\n",
              "      filter: drop-shadow(0px 1px 2px rgba(0, 0, 0, 0.3));\n",
              "      fill: #FFFFFF;\n",
              "    }\n",
              "  </style>\n",
              "\n",
              "    <script>\n",
              "      const buttonEl =\n",
              "        document.querySelector('#df-2790b3dd-710a-485c-9384-c0f0fe2aab35 button.colab-df-convert');\n",
              "      buttonEl.style.display =\n",
              "        google.colab.kernel.accessAllowed ? 'block' : 'none';\n",
              "\n",
              "      async function convertToInteractive(key) {\n",
              "        const element = document.querySelector('#df-2790b3dd-710a-485c-9384-c0f0fe2aab35');\n",
              "        const dataTable =\n",
              "          await google.colab.kernel.invokeFunction('convertToInteractive',\n",
              "                                                    [key], {});\n",
              "        if (!dataTable) return;\n",
              "\n",
              "        const docLinkHtml = 'Like what you see? Visit the ' +\n",
              "          '<a target=\"_blank\" href=https://colab.research.google.com/notebooks/data_table.ipynb>data table notebook</a>'\n",
              "          + ' to learn more about interactive tables.';\n",
              "        element.innerHTML = '';\n",
              "        dataTable['output_type'] = 'display_data';\n",
              "        await google.colab.output.renderOutput(dataTable, element);\n",
              "        const docLink = document.createElement('div');\n",
              "        docLink.innerHTML = docLinkHtml;\n",
              "        element.appendChild(docLink);\n",
              "      }\n",
              "    </script>\n",
              "  </div>\n",
              "\n",
              "\n",
              "<div id=\"df-334a0c9f-9932-4a54-9ed4-1cdd0c5cf2e8\">\n",
              "  <button class=\"colab-df-quickchart\" onclick=\"quickchart('df-334a0c9f-9932-4a54-9ed4-1cdd0c5cf2e8')\"\n",
              "            title=\"Suggest charts\"\n",
              "            style=\"display:none;\">\n",
              "\n",
              "<svg xmlns=\"http://www.w3.org/2000/svg\" height=\"24px\"viewBox=\"0 0 24 24\"\n",
              "     width=\"24px\">\n",
              "    <g>\n",
              "        <path d=\"M19 3H5c-1.1 0-2 .9-2 2v14c0 1.1.9 2 2 2h14c1.1 0 2-.9 2-2V5c0-1.1-.9-2-2-2zM9 17H7v-7h2v7zm4 0h-2V7h2v10zm4 0h-2v-4h2v4z\"/>\n",
              "    </g>\n",
              "</svg>\n",
              "  </button>\n",
              "\n",
              "<style>\n",
              "  .colab-df-quickchart {\n",
              "      --bg-color: #E8F0FE;\n",
              "      --fill-color: #1967D2;\n",
              "      --hover-bg-color: #E2EBFA;\n",
              "      --hover-fill-color: #174EA6;\n",
              "      --disabled-fill-color: #AAA;\n",
              "      --disabled-bg-color: #DDD;\n",
              "  }\n",
              "\n",
              "  [theme=dark] .colab-df-quickchart {\n",
              "      --bg-color: #3B4455;\n",
              "      --fill-color: #D2E3FC;\n",
              "      --hover-bg-color: #434B5C;\n",
              "      --hover-fill-color: #FFFFFF;\n",
              "      --disabled-bg-color: #3B4455;\n",
              "      --disabled-fill-color: #666;\n",
              "  }\n",
              "\n",
              "  .colab-df-quickchart {\n",
              "    background-color: var(--bg-color);\n",
              "    border: none;\n",
              "    border-radius: 50%;\n",
              "    cursor: pointer;\n",
              "    display: none;\n",
              "    fill: var(--fill-color);\n",
              "    height: 32px;\n",
              "    padding: 0;\n",
              "    width: 32px;\n",
              "  }\n",
              "\n",
              "  .colab-df-quickchart:hover {\n",
              "    background-color: var(--hover-bg-color);\n",
              "    box-shadow: 0 1px 2px rgba(60, 64, 67, 0.3), 0 1px 3px 1px rgba(60, 64, 67, 0.15);\n",
              "    fill: var(--button-hover-fill-color);\n",
              "  }\n",
              "\n",
              "  .colab-df-quickchart-complete:disabled,\n",
              "  .colab-df-quickchart-complete:disabled:hover {\n",
              "    background-color: var(--disabled-bg-color);\n",
              "    fill: var(--disabled-fill-color);\n",
              "    box-shadow: none;\n",
              "  }\n",
              "\n",
              "  .colab-df-spinner {\n",
              "    border: 2px solid var(--fill-color);\n",
              "    border-color: transparent;\n",
              "    border-bottom-color: var(--fill-color);\n",
              "    animation:\n",
              "      spin 1s steps(1) infinite;\n",
              "  }\n",
              "\n",
              "  @keyframes spin {\n",
              "    0% {\n",
              "      border-color: transparent;\n",
              "      border-bottom-color: var(--fill-color);\n",
              "      border-left-color: var(--fill-color);\n",
              "    }\n",
              "    20% {\n",
              "      border-color: transparent;\n",
              "      border-left-color: var(--fill-color);\n",
              "      border-top-color: var(--fill-color);\n",
              "    }\n",
              "    30% {\n",
              "      border-color: transparent;\n",
              "      border-left-color: var(--fill-color);\n",
              "      border-top-color: var(--fill-color);\n",
              "      border-right-color: var(--fill-color);\n",
              "    }\n",
              "    40% {\n",
              "      border-color: transparent;\n",
              "      border-right-color: var(--fill-color);\n",
              "      border-top-color: var(--fill-color);\n",
              "    }\n",
              "    60% {\n",
              "      border-color: transparent;\n",
              "      border-right-color: var(--fill-color);\n",
              "    }\n",
              "    80% {\n",
              "      border-color: transparent;\n",
              "      border-right-color: var(--fill-color);\n",
              "      border-bottom-color: var(--fill-color);\n",
              "    }\n",
              "    90% {\n",
              "      border-color: transparent;\n",
              "      border-bottom-color: var(--fill-color);\n",
              "    }\n",
              "  }\n",
              "</style>\n",
              "\n",
              "  <script>\n",
              "    async function quickchart(key) {\n",
              "      const quickchartButtonEl =\n",
              "        document.querySelector('#' + key + ' button');\n",
              "      quickchartButtonEl.disabled = true;  // To prevent multiple clicks.\n",
              "      quickchartButtonEl.classList.add('colab-df-spinner');\n",
              "      try {\n",
              "        const charts = await google.colab.kernel.invokeFunction(\n",
              "            'suggestCharts', [key], {});\n",
              "      } catch (error) {\n",
              "        console.error('Error during call to suggestCharts:', error);\n",
              "      }\n",
              "      quickchartButtonEl.classList.remove('colab-df-spinner');\n",
              "      quickchartButtonEl.classList.add('colab-df-quickchart-complete');\n",
              "    }\n",
              "    (() => {\n",
              "      let quickchartButtonEl =\n",
              "        document.querySelector('#df-334a0c9f-9932-4a54-9ed4-1cdd0c5cf2e8 button');\n",
              "      quickchartButtonEl.style.display =\n",
              "        google.colab.kernel.accessAllowed ? 'block' : 'none';\n",
              "    })();\n",
              "  </script>\n",
              "</div>\n",
              "\n",
              "  <div id=\"id_c5c37f4d-1d21-4dd9-a9a5-8afc1e3ad531\">\n",
              "    <style>\n",
              "      .colab-df-generate {\n",
              "        background-color: #E8F0FE;\n",
              "        border: none;\n",
              "        border-radius: 50%;\n",
              "        cursor: pointer;\n",
              "        display: none;\n",
              "        fill: #1967D2;\n",
              "        height: 32px;\n",
              "        padding: 0 0 0 0;\n",
              "        width: 32px;\n",
              "      }\n",
              "\n",
              "      .colab-df-generate:hover {\n",
              "        background-color: #E2EBFA;\n",
              "        box-shadow: 0px 1px 2px rgba(60, 64, 67, 0.3), 0px 1px 3px 1px rgba(60, 64, 67, 0.15);\n",
              "        fill: #174EA6;\n",
              "      }\n",
              "\n",
              "      [theme=dark] .colab-df-generate {\n",
              "        background-color: #3B4455;\n",
              "        fill: #D2E3FC;\n",
              "      }\n",
              "\n",
              "      [theme=dark] .colab-df-generate:hover {\n",
              "        background-color: #434B5C;\n",
              "        box-shadow: 0px 1px 3px 1px rgba(0, 0, 0, 0.15);\n",
              "        filter: drop-shadow(0px 1px 2px rgba(0, 0, 0, 0.3));\n",
              "        fill: #FFFFFF;\n",
              "      }\n",
              "    </style>\n",
              "    <button class=\"colab-df-generate\" onclick=\"generateWithVariable('Industry2')\"\n",
              "            title=\"Generate code using this dataframe.\"\n",
              "            style=\"display:none;\">\n",
              "\n",
              "  <svg xmlns=\"http://www.w3.org/2000/svg\" height=\"24px\"viewBox=\"0 0 24 24\"\n",
              "       width=\"24px\">\n",
              "    <path d=\"M7,19H8.4L18.45,9,17,7.55,7,17.6ZM5,21V16.75L18.45,3.32a2,2,0,0,1,2.83,0l1.4,1.43a1.91,1.91,0,0,1,.58,1.4,1.91,1.91,0,0,1-.58,1.4L9.25,21ZM18.45,9,17,7.55Zm-12,3A5.31,5.31,0,0,0,4.9,8.1,5.31,5.31,0,0,0,1,6.5,5.31,5.31,0,0,0,4.9,4.9,5.31,5.31,0,0,0,6.5,1,5.31,5.31,0,0,0,8.1,4.9,5.31,5.31,0,0,0,12,6.5,5.46,5.46,0,0,0,6.5,12Z\"/>\n",
              "  </svg>\n",
              "    </button>\n",
              "    <script>\n",
              "      (() => {\n",
              "      const buttonEl =\n",
              "        document.querySelector('#id_c5c37f4d-1d21-4dd9-a9a5-8afc1e3ad531 button.colab-df-generate');\n",
              "      buttonEl.style.display =\n",
              "        google.colab.kernel.accessAllowed ? 'block' : 'none';\n",
              "\n",
              "      buttonEl.onclick = () => {\n",
              "        google.colab.notebook.generateWithVariable('Industry2');\n",
              "      }\n",
              "      })();\n",
              "    </script>\n",
              "  </div>\n",
              "\n",
              "    </div>\n",
              "  </div>\n"
            ],
            "application/vnd.google.colaboratory.intrinsic+json": {
              "type": "dataframe",
              "variable_name": "Industry2",
              "summary": "{\n  \"name\": \"Industry2\",\n  \"rows\": 136,\n  \"fields\": [\n    {\n      \"column\": \"Source\",\n      \"properties\": {\n        \"dtype\": \"category\",\n        \"num_unique_values\": 1,\n        \"samples\": [\n          \"GISTEMP\"\n        ],\n        \"semantic_type\": \"\",\n        \"description\": \"\"\n      }\n    },\n    {\n      \"column\": \"Year\",\n      \"properties\": {\n        \"dtype\": \"number\",\n        \"std\": 39,\n        \"min\": 1880,\n        \"max\": 2015,\n        \"num_unique_values\": 136,\n        \"samples\": [\n          1942\n        ],\n        \"semantic_type\": \"\",\n        \"description\": \"\"\n      }\n    },\n    {\n      \"column\": \"Mean\",\n      \"properties\": {\n        \"dtype\": \"number\",\n        \"std\": 0.3182270807859284,\n        \"min\": -0.48,\n        \"max\": 0.87,\n        \"num_unique_values\": 78,\n        \"samples\": [\n          -0.12\n        ],\n        \"semantic_type\": \"\",\n        \"description\": \"\"\n      }\n    }\n  ]\n}"
            }
          },
          "metadata": {},
          "execution_count": 6
        }
      ]
    },
    {
      "cell_type": "markdown",
      "metadata": {
        "id": "previous-fireplace"
      },
      "source": [
        "# Data Pre-processing"
      ]
    },
    {
      "cell_type": "code",
      "source": [
        "x1 = Industry1.iloc[:,1:2].values\n",
        "y1 = Industry1.iloc[:,-1].values"
      ],
      "metadata": {
        "id": "bsTANhyJw0OL"
      },
      "execution_count": 4,
      "outputs": []
    },
    {
      "cell_type": "code",
      "source": [
        "x1"
      ],
      "metadata": {
        "colab": {
          "base_uri": "https://localhost:8080/"
        },
        "id": "kVPaX1XgG1Qq",
        "outputId": "f1fe46e4-1e38-4ce5-de53-d2717f4bc0af"
      },
      "execution_count": null,
      "outputs": [
        {
          "output_type": "execute_result",
          "data": {
            "text/plain": [
              "array([[2015],\n",
              "       [2014],\n",
              "       [2013],\n",
              "       [2012],\n",
              "       [2011],\n",
              "       [2010],\n",
              "       [2009],\n",
              "       [2008],\n",
              "       [2007],\n",
              "       [2006],\n",
              "       [2005],\n",
              "       [2004],\n",
              "       [2003],\n",
              "       [2002],\n",
              "       [2001],\n",
              "       [2000],\n",
              "       [1999],\n",
              "       [1998],\n",
              "       [1997],\n",
              "       [1996],\n",
              "       [1995],\n",
              "       [1994],\n",
              "       [1993],\n",
              "       [1992],\n",
              "       [1991],\n",
              "       [1990],\n",
              "       [1989],\n",
              "       [1988],\n",
              "       [1987],\n",
              "       [1986],\n",
              "       [1985],\n",
              "       [1984],\n",
              "       [1983],\n",
              "       [1982],\n",
              "       [1981],\n",
              "       [1980],\n",
              "       [1979],\n",
              "       [1978],\n",
              "       [1977],\n",
              "       [1976],\n",
              "       [1975],\n",
              "       [1974],\n",
              "       [1973],\n",
              "       [1972],\n",
              "       [1971],\n",
              "       [1970],\n",
              "       [1969],\n",
              "       [1968],\n",
              "       [1967],\n",
              "       [1966],\n",
              "       [1965],\n",
              "       [1964],\n",
              "       [1963],\n",
              "       [1962],\n",
              "       [1961],\n",
              "       [1960],\n",
              "       [1959],\n",
              "       [1958],\n",
              "       [1957],\n",
              "       [1956],\n",
              "       [1955],\n",
              "       [1954],\n",
              "       [1953],\n",
              "       [1952],\n",
              "       [1951],\n",
              "       [1950],\n",
              "       [1949],\n",
              "       [1948],\n",
              "       [1947],\n",
              "       [1946],\n",
              "       [1945],\n",
              "       [1944],\n",
              "       [1943],\n",
              "       [1942],\n",
              "       [1941],\n",
              "       [1940],\n",
              "       [1939],\n",
              "       [1938],\n",
              "       [1937],\n",
              "       [1936],\n",
              "       [1935],\n",
              "       [1934],\n",
              "       [1933],\n",
              "       [1932],\n",
              "       [1931],\n",
              "       [1930],\n",
              "       [1929],\n",
              "       [1928],\n",
              "       [1927],\n",
              "       [1926],\n",
              "       [1925],\n",
              "       [1924],\n",
              "       [1923],\n",
              "       [1922],\n",
              "       [1921],\n",
              "       [1920],\n",
              "       [1919],\n",
              "       [1918],\n",
              "       [1917],\n",
              "       [1916],\n",
              "       [1915],\n",
              "       [1914],\n",
              "       [1913],\n",
              "       [1912],\n",
              "       [1911],\n",
              "       [1910],\n",
              "       [1909],\n",
              "       [1908],\n",
              "       [1907],\n",
              "       [1906],\n",
              "       [1905],\n",
              "       [1904],\n",
              "       [1903],\n",
              "       [1902],\n",
              "       [1901],\n",
              "       [1900],\n",
              "       [1899],\n",
              "       [1898],\n",
              "       [1897],\n",
              "       [1896],\n",
              "       [1895],\n",
              "       [1894],\n",
              "       [1893],\n",
              "       [1892],\n",
              "       [1891],\n",
              "       [1890],\n",
              "       [1889],\n",
              "       [1888],\n",
              "       [1887],\n",
              "       [1886],\n",
              "       [1885],\n",
              "       [1884],\n",
              "       [1883],\n",
              "       [1882],\n",
              "       [1881],\n",
              "       [1880]])"
            ]
          },
          "metadata": {},
          "execution_count": 7
        }
      ]
    },
    {
      "cell_type": "code",
      "source": [
        "y1"
      ],
      "metadata": {
        "colab": {
          "base_uri": "https://localhost:8080/"
        },
        "id": "3CoNlvf9HJkw",
        "outputId": "ccb0a31d-a316-4310-8521-48db0b4ef423"
      },
      "execution_count": null,
      "outputs": [
        {
          "output_type": "execute_result",
          "data": {
            "text/plain": [
              "array([ 0.899 ,  0.7402,  0.6687,  0.6219,  0.5759,  0.7008,  0.6354,\n",
              "        0.5415,  0.6113,  0.6139,  0.6583,  0.5806,  0.6145,  0.6018,\n",
              "        0.5455,  0.4255,  0.4427,  0.6335,  0.5185,  0.3225,  0.4593,\n",
              "        0.342 ,  0.2857,  0.2583,  0.4079,  0.435 ,  0.2982,  0.377 ,\n",
              "        0.371 ,  0.2308,  0.1357,  0.151 ,  0.3429,  0.1836,  0.3024,\n",
              "        0.2651,  0.2288,  0.1139,  0.1996, -0.0769,  0.006 , -0.0698,\n",
              "        0.1654,  0.028 , -0.0775,  0.0383,  0.0937, -0.0282, -0.0112,\n",
              "       -0.0204, -0.0752, -0.1461,  0.11  ,  0.0924,  0.0818,  0.0252,\n",
              "        0.064 ,  0.1145,  0.0538, -0.1945, -0.1305, -0.1118,  0.0997,\n",
              "        0.0288, -0.0095, -0.1579, -0.055 , -0.0471, -0.0455, -0.0013,\n",
              "        0.1754,  0.2948,  0.1598,  0.1549,  0.1974,  0.0927, -0.0157,\n",
              "       -0.0318, -0.0204, -0.1173, -0.1445, -0.1075, -0.2481, -0.1214,\n",
              "       -0.0714, -0.1016, -0.2982, -0.1749, -0.1506, -0.0618, -0.1464,\n",
              "       -0.251 , -0.2161, -0.2318, -0.1517, -0.2152, -0.2082, -0.2118,\n",
              "       -0.3193, -0.2979, -0.0747, -0.1444, -0.3205, -0.3318, -0.4367,\n",
              "       -0.3862, -0.4332, -0.4441, -0.3767, -0.2208, -0.2967, -0.424 ,\n",
              "       -0.3442, -0.2535, -0.1471, -0.0704, -0.1172, -0.2578, -0.1232,\n",
              "       -0.0971, -0.2279, -0.2828, -0.3221, -0.3079, -0.2552, -0.3233,\n",
              "       -0.1032, -0.1541, -0.2559, -0.2101, -0.222 , -0.2099, -0.1481,\n",
              "       -0.071 , -0.0707, -0.1247])"
            ]
          },
          "metadata": {},
          "execution_count": 6
        }
      ]
    },
    {
      "cell_type": "code",
      "source": [
        "x2 = Industry2.iloc[:,1:2].values\n",
        "y2 = Industry2.iloc[:,-1].values"
      ],
      "metadata": {
        "id": "--KHFpNmGe_H"
      },
      "execution_count": 7,
      "outputs": []
    },
    {
      "cell_type": "code",
      "source": [
        "x2"
      ],
      "metadata": {
        "colab": {
          "base_uri": "https://localhost:8080/"
        },
        "id": "1e7zh0JGHOV3",
        "outputId": "5ceadd18-d055-48b1-a138-004216e6aa80"
      },
      "execution_count": null,
      "outputs": [
        {
          "output_type": "execute_result",
          "data": {
            "text/plain": [
              "array([[2015],\n",
              "       [2014],\n",
              "       [2013],\n",
              "       [2012],\n",
              "       [2011],\n",
              "       [2010],\n",
              "       [2009],\n",
              "       [2008],\n",
              "       [2007],\n",
              "       [2006],\n",
              "       [2005],\n",
              "       [2004],\n",
              "       [2003],\n",
              "       [2002],\n",
              "       [2001],\n",
              "       [2000],\n",
              "       [1999],\n",
              "       [1998],\n",
              "       [1997],\n",
              "       [1996],\n",
              "       [1995],\n",
              "       [1994],\n",
              "       [1993],\n",
              "       [1992],\n",
              "       [1991],\n",
              "       [1990],\n",
              "       [1989],\n",
              "       [1988],\n",
              "       [1987],\n",
              "       [1986],\n",
              "       [1985],\n",
              "       [1984],\n",
              "       [1983],\n",
              "       [1982],\n",
              "       [1981],\n",
              "       [1980],\n",
              "       [1979],\n",
              "       [1978],\n",
              "       [1977],\n",
              "       [1976],\n",
              "       [1975],\n",
              "       [1974],\n",
              "       [1973],\n",
              "       [1972],\n",
              "       [1971],\n",
              "       [1970],\n",
              "       [1969],\n",
              "       [1968],\n",
              "       [1967],\n",
              "       [1966],\n",
              "       [1965],\n",
              "       [1964],\n",
              "       [1963],\n",
              "       [1962],\n",
              "       [1961],\n",
              "       [1960],\n",
              "       [1959],\n",
              "       [1958],\n",
              "       [1957],\n",
              "       [1956],\n",
              "       [1955],\n",
              "       [1954],\n",
              "       [1953],\n",
              "       [1952],\n",
              "       [1951],\n",
              "       [1950],\n",
              "       [1949],\n",
              "       [1948],\n",
              "       [1947],\n",
              "       [1946],\n",
              "       [1945],\n",
              "       [1944],\n",
              "       [1943],\n",
              "       [1942],\n",
              "       [1941],\n",
              "       [1940],\n",
              "       [1939],\n",
              "       [1938],\n",
              "       [1937],\n",
              "       [1936],\n",
              "       [1935],\n",
              "       [1934],\n",
              "       [1933],\n",
              "       [1932],\n",
              "       [1931],\n",
              "       [1930],\n",
              "       [1929],\n",
              "       [1928],\n",
              "       [1927],\n",
              "       [1926],\n",
              "       [1925],\n",
              "       [1924],\n",
              "       [1923],\n",
              "       [1922],\n",
              "       [1921],\n",
              "       [1920],\n",
              "       [1919],\n",
              "       [1918],\n",
              "       [1917],\n",
              "       [1916],\n",
              "       [1915],\n",
              "       [1914],\n",
              "       [1913],\n",
              "       [1912],\n",
              "       [1911],\n",
              "       [1910],\n",
              "       [1909],\n",
              "       [1908],\n",
              "       [1907],\n",
              "       [1906],\n",
              "       [1905],\n",
              "       [1904],\n",
              "       [1903],\n",
              "       [1902],\n",
              "       [1901],\n",
              "       [1900],\n",
              "       [1899],\n",
              "       [1898],\n",
              "       [1897],\n",
              "       [1896],\n",
              "       [1895],\n",
              "       [1894],\n",
              "       [1893],\n",
              "       [1892],\n",
              "       [1891],\n",
              "       [1890],\n",
              "       [1889],\n",
              "       [1888],\n",
              "       [1887],\n",
              "       [1886],\n",
              "       [1885],\n",
              "       [1884],\n",
              "       [1883],\n",
              "       [1882],\n",
              "       [1881],\n",
              "       [1880]])"
            ]
          },
          "metadata": {},
          "execution_count": 9
        }
      ]
    },
    {
      "cell_type": "code",
      "source": [
        "y2"
      ],
      "metadata": {
        "colab": {
          "base_uri": "https://localhost:8080/"
        },
        "id": "gUjyw__6HQEx",
        "outputId": "151a1543-5081-47ef-9ec1-d9ba7eca8a47"
      },
      "execution_count": null,
      "outputs": [
        {
          "output_type": "execute_result",
          "data": {
            "text/plain": [
              "array([ 0.87,  0.75,  0.66,  0.64,  0.61,  0.72,  0.65,  0.54,  0.66,\n",
              "        0.63,  0.69,  0.55,  0.62,  0.63,  0.55,  0.42,  0.42,  0.64,\n",
              "        0.48,  0.35,  0.46,  0.32,  0.24,  0.23,  0.43,  0.44,  0.29,\n",
              "        0.41,  0.33,  0.19,  0.12,  0.16,  0.3 ,  0.13,  0.33,  0.27,\n",
              "        0.17,  0.07,  0.18, -0.12, -0.02, -0.08,  0.15,  0.01, -0.09,\n",
              "        0.02,  0.06, -0.07, -0.02, -0.05, -0.1 , -0.2 ,  0.06,  0.03,\n",
              "        0.05, -0.03,  0.03,  0.07,  0.04, -0.2 , -0.15, -0.12,  0.08,\n",
              "        0.01, -0.06, -0.18, -0.09, -0.09, -0.05, -0.04,  0.12,  0.25,\n",
              "        0.13,  0.09,  0.13,  0.08, -0.03, -0.03, -0.03, -0.15, -0.19,\n",
              "       -0.14, -0.29, -0.16, -0.09, -0.14, -0.35, -0.21, -0.2 , -0.09,\n",
              "       -0.2 , -0.28, -0.24, -0.27, -0.21, -0.27, -0.22, -0.26, -0.4 ,\n",
              "       -0.34, -0.11, -0.16, -0.34, -0.35, -0.45, -0.43, -0.48, -0.43,\n",
              "       -0.4 , -0.23, -0.28, -0.45, -0.36, -0.28, -0.15, -0.09, -0.16,\n",
              "       -0.28, -0.11, -0.15, -0.21, -0.3 , -0.3 , -0.26, -0.24, -0.36,\n",
              "       -0.11, -0.2 , -0.33, -0.3 , -0.31, -0.28, -0.2 , -0.1 , -0.12,\n",
              "       -0.2 ])"
            ]
          },
          "metadata": {},
          "execution_count": 10
        }
      ]
    },
    {
      "cell_type": "markdown",
      "metadata": {
        "id": "architectural-rebecca"
      },
      "source": [
        "# Cyclic Learn - Library = sklearn"
      ]
    },
    {
      "cell_type": "markdown",
      "source": [
        "# INDUSTRY1"
      ],
      "metadata": {
        "id": "aryI43XmJ9Du"
      }
    },
    {
      "cell_type": "code",
      "execution_count": 8,
      "metadata": {
        "id": "electrical-crossing"
      },
      "outputs": [],
      "source": [
        "from sklearn.model_selection import train_test_split\n",
        "x1_train, x1_test, y1_train, y1_test = train_test_split(x1, y1, test_size =1/3, random_state=1)"
      ]
    },
    {
      "cell_type": "code",
      "source": [
        "x1_train"
      ],
      "metadata": {
        "colab": {
          "base_uri": "https://localhost:8080/"
        },
        "id": "VhcxgR7sJLgk",
        "outputId": "4485037d-95fe-4360-908f-0e420fb03785"
      },
      "execution_count": null,
      "outputs": [
        {
          "output_type": "execute_result",
          "data": {
            "text/plain": [
              "array([[1932],\n",
              "       [1916],\n",
              "       [1969],\n",
              "       [1957],\n",
              "       [1894],\n",
              "       [1964],\n",
              "       [1942],\n",
              "       [1924],\n",
              "       [1917],\n",
              "       [1903],\n",
              "       [1938],\n",
              "       [1940],\n",
              "       [2005],\n",
              "       [1981],\n",
              "       [1983],\n",
              "       [1918],\n",
              "       [1977],\n",
              "       [1996],\n",
              "       [1905],\n",
              "       [1880],\n",
              "       [1988],\n",
              "       [1992],\n",
              "       [1948],\n",
              "       [1908],\n",
              "       [1912],\n",
              "       [1941],\n",
              "       [1935],\n",
              "       [1893],\n",
              "       [1884],\n",
              "       [1891],\n",
              "       [1951],\n",
              "       [2000],\n",
              "       [1974],\n",
              "       [1963],\n",
              "       [1989],\n",
              "       [1939],\n",
              "       [1972],\n",
              "       [1991],\n",
              "       [1898],\n",
              "       [1925],\n",
              "       [1913],\n",
              "       [1966],\n",
              "       [1994],\n",
              "       [1945],\n",
              "       [2012],\n",
              "       [1885],\n",
              "       [1985],\n",
              "       [1881],\n",
              "       [1968],\n",
              "       [1906],\n",
              "       [1927],\n",
              "       [2007],\n",
              "       [1934],\n",
              "       [1955],\n",
              "       [2015],\n",
              "       [2014],\n",
              "       [1958],\n",
              "       [1993],\n",
              "       [1954],\n",
              "       [1952],\n",
              "       [2008],\n",
              "       [2006],\n",
              "       [1901],\n",
              "       [2002],\n",
              "       [1929],\n",
              "       [1919],\n",
              "       [1921],\n",
              "       [1902],\n",
              "       [1910],\n",
              "       [1899],\n",
              "       [1928],\n",
              "       [1947],\n",
              "       [1965],\n",
              "       [2001],\n",
              "       [1986],\n",
              "       [1987],\n",
              "       [1909],\n",
              "       [2004],\n",
              "       [1931],\n",
              "       [1997],\n",
              "       [1914],\n",
              "       [1889],\n",
              "       [1995],\n",
              "       [1990],\n",
              "       [1944],\n",
              "       [1886],\n",
              "       [1936],\n",
              "       [1882],\n",
              "       [1943],\n",
              "       [1978]])"
            ]
          },
          "metadata": {},
          "execution_count": 9
        }
      ]
    },
    {
      "cell_type": "code",
      "source": [
        "x1_test"
      ],
      "metadata": {
        "colab": {
          "base_uri": "https://localhost:8080/"
        },
        "id": "0U-4iRh5JPBP",
        "outputId": "418de3f4-2624-4b0f-f5c8-12e2ecb190c1"
      },
      "execution_count": null,
      "outputs": [
        {
          "output_type": "execute_result",
          "data": {
            "text/plain": [
              "array([[1973],\n",
              "       [1979],\n",
              "       [1922],\n",
              "       [2010],\n",
              "       [1950],\n",
              "       [1907],\n",
              "       [1959],\n",
              "       [1998],\n",
              "       [1962],\n",
              "       [1895],\n",
              "       [1946],\n",
              "       [1896],\n",
              "       [1971],\n",
              "       [1956],\n",
              "       [1926],\n",
              "       [1900],\n",
              "       [1982],\n",
              "       [1937],\n",
              "       [1890],\n",
              "       [1999],\n",
              "       [1967],\n",
              "       [1923],\n",
              "       [1970],\n",
              "       [1984],\n",
              "       [2011],\n",
              "       [1887],\n",
              "       [1897],\n",
              "       [1980],\n",
              "       [1960],\n",
              "       [1911],\n",
              "       [1975],\n",
              "       [1883],\n",
              "       [1892],\n",
              "       [1953],\n",
              "       [1949],\n",
              "       [2003],\n",
              "       [2013],\n",
              "       [1976],\n",
              "       [1904],\n",
              "       [2009],\n",
              "       [1933],\n",
              "       [1915],\n",
              "       [1930],\n",
              "       [1920],\n",
              "       [1888],\n",
              "       [1961]])"
            ]
          },
          "metadata": {},
          "execution_count": 10
        }
      ]
    },
    {
      "cell_type": "code",
      "source": [
        "y1_train"
      ],
      "metadata": {
        "colab": {
          "base_uri": "https://localhost:8080/"
        },
        "id": "vWVPdZMaJRyv",
        "outputId": "46cbb55e-72d5-430a-c6af-abd06695bd36"
      },
      "execution_count": null,
      "outputs": [
        {
          "output_type": "execute_result",
          "data": {
            "text/plain": [
              "array([-0.1214, -0.2979,  0.0937,  0.0538, -0.2828, -0.1461,  0.1549,\n",
              "       -0.251 , -0.3193, -0.3442, -0.0318,  0.0927,  0.6583,  0.3024,\n",
              "        0.3429, -0.2118,  0.1996,  0.3225, -0.2967, -0.1247,  0.377 ,\n",
              "        0.2583, -0.0471, -0.4441, -0.3318,  0.1974, -0.1445, -0.3221,\n",
              "       -0.2099, -0.2552, -0.0095,  0.4255, -0.0698,  0.11  ,  0.2982,\n",
              "       -0.0157,  0.028 ,  0.4079, -0.2578, -0.1464, -0.3205, -0.0204,\n",
              "        0.342 ,  0.1754,  0.6219, -0.222 ,  0.1357, -0.0707, -0.0282,\n",
              "       -0.2208, -0.1506,  0.6113, -0.1075, -0.1305,  0.899 ,  0.7402,\n",
              "        0.1145,  0.2857, -0.1118,  0.0288,  0.5415,  0.6139, -0.1471,\n",
              "        0.6018, -0.2982, -0.2082, -0.1517, -0.2535, -0.3862, -0.1172,\n",
              "       -0.1749, -0.0455, -0.0752,  0.5455,  0.2308,  0.371 , -0.4332,\n",
              "        0.5806, -0.0714,  0.5185, -0.1444, -0.1032,  0.4593,  0.435 ,\n",
              "        0.2948, -0.2101, -0.1173, -0.071 ,  0.1598,  0.1139])"
            ]
          },
          "metadata": {},
          "execution_count": 11
        }
      ]
    },
    {
      "cell_type": "code",
      "source": [
        "y1_test"
      ],
      "metadata": {
        "colab": {
          "base_uri": "https://localhost:8080/"
        },
        "id": "V7qIc33AJVSF",
        "outputId": "ede84603-4df9-4d4c-d0f8-20beb651451b"
      },
      "execution_count": null,
      "outputs": [
        {
          "output_type": "execute_result",
          "data": {
            "text/plain": [
              "array([ 0.1654,  0.2288, -0.2318,  0.7008, -0.1579, -0.3767,  0.064 ,\n",
              "        0.6335,  0.0924, -0.2279, -0.0013, -0.0971, -0.0775, -0.1945,\n",
              "       -0.0618, -0.0704,  0.1836, -0.0204, -0.3233,  0.4427, -0.0112,\n",
              "       -0.2161,  0.0383,  0.151 ,  0.5759, -0.2559, -0.1232,  0.2651,\n",
              "        0.0252, -0.4367,  0.006 , -0.1481, -0.3079,  0.0997, -0.055 ,\n",
              "        0.6145,  0.6687, -0.0769, -0.424 ,  0.6354, -0.2481, -0.0747,\n",
              "       -0.1016, -0.2152, -0.1541,  0.0818])"
            ]
          },
          "metadata": {},
          "execution_count": 12
        }
      ]
    },
    {
      "cell_type": "markdown",
      "source": [
        "# INDUSTRY2"
      ],
      "metadata": {
        "id": "4mw269oVJwlJ"
      }
    },
    {
      "cell_type": "code",
      "execution_count": 9,
      "metadata": {
        "id": "klivQSyaIoTH"
      },
      "outputs": [],
      "source": [
        "from sklearn.model_selection import train_test_split\n",
        "x2_train, x2_test, y2_train, y2_test = train_test_split(x2, y2, test_size =1/3, random_state=1)"
      ]
    },
    {
      "cell_type": "code",
      "source": [
        "x2_train"
      ],
      "metadata": {
        "colab": {
          "base_uri": "https://localhost:8080/"
        },
        "id": "Q0pteX4OJazY",
        "outputId": "8cb9c1a2-133a-428b-f813-833f1e40a9ba"
      },
      "execution_count": null,
      "outputs": [
        {
          "output_type": "execute_result",
          "data": {
            "text/plain": [
              "array([[1932],\n",
              "       [1916],\n",
              "       [1969],\n",
              "       [1957],\n",
              "       [1894],\n",
              "       [1964],\n",
              "       [1942],\n",
              "       [1924],\n",
              "       [1917],\n",
              "       [1903],\n",
              "       [1938],\n",
              "       [1940],\n",
              "       [2005],\n",
              "       [1981],\n",
              "       [1983],\n",
              "       [1918],\n",
              "       [1977],\n",
              "       [1996],\n",
              "       [1905],\n",
              "       [1880],\n",
              "       [1988],\n",
              "       [1992],\n",
              "       [1948],\n",
              "       [1908],\n",
              "       [1912],\n",
              "       [1941],\n",
              "       [1935],\n",
              "       [1893],\n",
              "       [1884],\n",
              "       [1891],\n",
              "       [1951],\n",
              "       [2000],\n",
              "       [1974],\n",
              "       [1963],\n",
              "       [1989],\n",
              "       [1939],\n",
              "       [1972],\n",
              "       [1991],\n",
              "       [1898],\n",
              "       [1925],\n",
              "       [1913],\n",
              "       [1966],\n",
              "       [1994],\n",
              "       [1945],\n",
              "       [2012],\n",
              "       [1885],\n",
              "       [1985],\n",
              "       [1881],\n",
              "       [1968],\n",
              "       [1906],\n",
              "       [1927],\n",
              "       [2007],\n",
              "       [1934],\n",
              "       [1955],\n",
              "       [2015],\n",
              "       [2014],\n",
              "       [1958],\n",
              "       [1993],\n",
              "       [1954],\n",
              "       [1952],\n",
              "       [2008],\n",
              "       [2006],\n",
              "       [1901],\n",
              "       [2002],\n",
              "       [1929],\n",
              "       [1919],\n",
              "       [1921],\n",
              "       [1902],\n",
              "       [1910],\n",
              "       [1899],\n",
              "       [1928],\n",
              "       [1947],\n",
              "       [1965],\n",
              "       [2001],\n",
              "       [1986],\n",
              "       [1987],\n",
              "       [1909],\n",
              "       [2004],\n",
              "       [1931],\n",
              "       [1997],\n",
              "       [1914],\n",
              "       [1889],\n",
              "       [1995],\n",
              "       [1990],\n",
              "       [1944],\n",
              "       [1886],\n",
              "       [1936],\n",
              "       [1882],\n",
              "       [1943],\n",
              "       [1978]])"
            ]
          },
          "metadata": {},
          "execution_count": 14
        }
      ]
    },
    {
      "cell_type": "code",
      "source": [
        "x2_test"
      ],
      "metadata": {
        "colab": {
          "base_uri": "https://localhost:8080/"
        },
        "id": "acFB3yYHJeEb",
        "outputId": "043bf485-1044-4e6d-8174-18374ceccd93"
      },
      "execution_count": null,
      "outputs": [
        {
          "output_type": "execute_result",
          "data": {
            "text/plain": [
              "array([[1973],\n",
              "       [1979],\n",
              "       [1922],\n",
              "       [2010],\n",
              "       [1950],\n",
              "       [1907],\n",
              "       [1959],\n",
              "       [1998],\n",
              "       [1962],\n",
              "       [1895],\n",
              "       [1946],\n",
              "       [1896],\n",
              "       [1971],\n",
              "       [1956],\n",
              "       [1926],\n",
              "       [1900],\n",
              "       [1982],\n",
              "       [1937],\n",
              "       [1890],\n",
              "       [1999],\n",
              "       [1967],\n",
              "       [1923],\n",
              "       [1970],\n",
              "       [1984],\n",
              "       [2011],\n",
              "       [1887],\n",
              "       [1897],\n",
              "       [1980],\n",
              "       [1960],\n",
              "       [1911],\n",
              "       [1975],\n",
              "       [1883],\n",
              "       [1892],\n",
              "       [1953],\n",
              "       [1949],\n",
              "       [2003],\n",
              "       [2013],\n",
              "       [1976],\n",
              "       [1904],\n",
              "       [2009],\n",
              "       [1933],\n",
              "       [1915],\n",
              "       [1930],\n",
              "       [1920],\n",
              "       [1888],\n",
              "       [1961]])"
            ]
          },
          "metadata": {},
          "execution_count": 15
        }
      ]
    },
    {
      "cell_type": "code",
      "source": [
        "y2_train"
      ],
      "metadata": {
        "colab": {
          "base_uri": "https://localhost:8080/"
        },
        "id": "4fFJl0nKJhsL",
        "outputId": "cef98ec1-6468-4e79-c3b2-e18ad9c236da"
      },
      "execution_count": null,
      "outputs": [
        {
          "output_type": "execute_result",
          "data": {
            "text/plain": [
              "array([-0.16, -0.34,  0.06,  0.04, -0.3 , -0.2 ,  0.09, -0.28, -0.4 ,\n",
              "       -0.36, -0.03,  0.08,  0.69,  0.33,  0.3 , -0.26,  0.18,  0.35,\n",
              "       -0.28, -0.2 ,  0.41,  0.23, -0.09, -0.43, -0.35,  0.13, -0.19,\n",
              "       -0.3 , -0.28, -0.24, -0.06,  0.42, -0.08,  0.06,  0.29, -0.03,\n",
              "        0.01,  0.43, -0.28, -0.2 , -0.34, -0.05,  0.32,  0.12,  0.64,\n",
              "       -0.31,  0.12, -0.12, -0.07, -0.23, -0.2 ,  0.66, -0.14, -0.15,\n",
              "        0.87,  0.75,  0.07,  0.24, -0.12,  0.01,  0.54,  0.63, -0.15,\n",
              "        0.63, -0.35, -0.22, -0.21, -0.28, -0.43, -0.16, -0.21, -0.05,\n",
              "       -0.1 ,  0.55,  0.19,  0.33, -0.48,  0.55, -0.09,  0.48, -0.16,\n",
              "       -0.11,  0.46,  0.44,  0.25, -0.3 , -0.15, -0.1 ,  0.13,  0.07])"
            ]
          },
          "metadata": {},
          "execution_count": 16
        }
      ]
    },
    {
      "cell_type": "code",
      "source": [
        "y2_test"
      ],
      "metadata": {
        "colab": {
          "base_uri": "https://localhost:8080/"
        },
        "id": "pYTDxnSzJmIj",
        "outputId": "2e9fd2de-e0dd-4c01-8f41-ce8638a281e9"
      },
      "execution_count": null,
      "outputs": [
        {
          "output_type": "execute_result",
          "data": {
            "text/plain": [
              "array([ 0.15,  0.17, -0.27,  0.72, -0.18, -0.4 ,  0.03,  0.64,  0.03,\n",
              "       -0.21, -0.04, -0.15, -0.09, -0.2 , -0.09, -0.09,  0.13, -0.03,\n",
              "       -0.36,  0.42, -0.02, -0.24,  0.02,  0.16,  0.61, -0.33, -0.11,\n",
              "        0.27, -0.03, -0.45, -0.02, -0.2 , -0.26,  0.08, -0.09,  0.62,\n",
              "        0.66, -0.12, -0.45,  0.65, -0.29, -0.11, -0.14, -0.27, -0.2 ,\n",
              "        0.05])"
            ]
          },
          "metadata": {},
          "execution_count": 18
        }
      ]
    },
    {
      "cell_type": "markdown",
      "metadata": {
        "id": "ultimate-prize"
      },
      "source": [
        "# Fitting Linear Regression on dataset"
      ]
    },
    {
      "cell_type": "markdown",
      "source": [
        "# INDUSTRY 1"
      ],
      "metadata": {
        "id": "paaEot3yKu__"
      }
    },
    {
      "cell_type": "code",
      "execution_count": 10,
      "metadata": {
        "colab": {
          "base_uri": "https://localhost:8080/",
          "height": 75
        },
        "id": "exceptional-tracker",
        "outputId": "8c9e8f2f-2c54-46be-eeae-44d52d7d9d0d"
      },
      "outputs": [
        {
          "output_type": "execute_result",
          "data": {
            "text/plain": [
              "LinearRegression()"
            ],
            "text/html": [
              "<style>#sk-container-id-1 {color: black;background-color: white;}#sk-container-id-1 pre{padding: 0;}#sk-container-id-1 div.sk-toggleable {background-color: white;}#sk-container-id-1 label.sk-toggleable__label {cursor: pointer;display: block;width: 100%;margin-bottom: 0;padding: 0.3em;box-sizing: border-box;text-align: center;}#sk-container-id-1 label.sk-toggleable__label-arrow:before {content: \"▸\";float: left;margin-right: 0.25em;color: #696969;}#sk-container-id-1 label.sk-toggleable__label-arrow:hover:before {color: black;}#sk-container-id-1 div.sk-estimator:hover label.sk-toggleable__label-arrow:before {color: black;}#sk-container-id-1 div.sk-toggleable__content {max-height: 0;max-width: 0;overflow: hidden;text-align: left;background-color: #f0f8ff;}#sk-container-id-1 div.sk-toggleable__content pre {margin: 0.2em;color: black;border-radius: 0.25em;background-color: #f0f8ff;}#sk-container-id-1 input.sk-toggleable__control:checked~div.sk-toggleable__content {max-height: 200px;max-width: 100%;overflow: auto;}#sk-container-id-1 input.sk-toggleable__control:checked~label.sk-toggleable__label-arrow:before {content: \"▾\";}#sk-container-id-1 div.sk-estimator input.sk-toggleable__control:checked~label.sk-toggleable__label {background-color: #d4ebff;}#sk-container-id-1 div.sk-label input.sk-toggleable__control:checked~label.sk-toggleable__label {background-color: #d4ebff;}#sk-container-id-1 input.sk-hidden--visually {border: 0;clip: rect(1px 1px 1px 1px);clip: rect(1px, 1px, 1px, 1px);height: 1px;margin: -1px;overflow: hidden;padding: 0;position: absolute;width: 1px;}#sk-container-id-1 div.sk-estimator {font-family: monospace;background-color: #f0f8ff;border: 1px dotted black;border-radius: 0.25em;box-sizing: border-box;margin-bottom: 0.5em;}#sk-container-id-1 div.sk-estimator:hover {background-color: #d4ebff;}#sk-container-id-1 div.sk-parallel-item::after {content: \"\";width: 100%;border-bottom: 1px solid gray;flex-grow: 1;}#sk-container-id-1 div.sk-label:hover label.sk-toggleable__label {background-color: #d4ebff;}#sk-container-id-1 div.sk-serial::before {content: \"\";position: absolute;border-left: 1px solid gray;box-sizing: border-box;top: 0;bottom: 0;left: 50%;z-index: 0;}#sk-container-id-1 div.sk-serial {display: flex;flex-direction: column;align-items: center;background-color: white;padding-right: 0.2em;padding-left: 0.2em;position: relative;}#sk-container-id-1 div.sk-item {position: relative;z-index: 1;}#sk-container-id-1 div.sk-parallel {display: flex;align-items: stretch;justify-content: center;background-color: white;position: relative;}#sk-container-id-1 div.sk-item::before, #sk-container-id-1 div.sk-parallel-item::before {content: \"\";position: absolute;border-left: 1px solid gray;box-sizing: border-box;top: 0;bottom: 0;left: 50%;z-index: -1;}#sk-container-id-1 div.sk-parallel-item {display: flex;flex-direction: column;z-index: 1;position: relative;background-color: white;}#sk-container-id-1 div.sk-parallel-item:first-child::after {align-self: flex-end;width: 50%;}#sk-container-id-1 div.sk-parallel-item:last-child::after {align-self: flex-start;width: 50%;}#sk-container-id-1 div.sk-parallel-item:only-child::after {width: 0;}#sk-container-id-1 div.sk-dashed-wrapped {border: 1px dashed gray;margin: 0 0.4em 0.5em 0.4em;box-sizing: border-box;padding-bottom: 0.4em;background-color: white;}#sk-container-id-1 div.sk-label label {font-family: monospace;font-weight: bold;display: inline-block;line-height: 1.2em;}#sk-container-id-1 div.sk-label-container {text-align: center;}#sk-container-id-1 div.sk-container {/* jupyter's `normalize.less` sets `[hidden] { display: none; }` but bootstrap.min.css set `[hidden] { display: none !important; }` so we also need the `!important` here to be able to override the default hidden behavior on the sphinx rendered scikit-learn.org. See: https://github.com/scikit-learn/scikit-learn/issues/21755 */display: inline-block !important;position: relative;}#sk-container-id-1 div.sk-text-repr-fallback {display: none;}</style><div id=\"sk-container-id-1\" class=\"sk-top-container\"><div class=\"sk-text-repr-fallback\"><pre>LinearRegression()</pre><b>In a Jupyter environment, please rerun this cell to show the HTML representation or trust the notebook. <br />On GitHub, the HTML representation is unable to render, please try loading this page with nbviewer.org.</b></div><div class=\"sk-container\" hidden><div class=\"sk-item\"><div class=\"sk-estimator sk-toggleable\"><input class=\"sk-toggleable__control sk-hidden--visually\" id=\"sk-estimator-id-1\" type=\"checkbox\" checked><label for=\"sk-estimator-id-1\" class=\"sk-toggleable__label sk-toggleable__label-arrow\">LinearRegression</label><div class=\"sk-toggleable__content\"><pre>LinearRegression()</pre></div></div></div></div></div>"
            ]
          },
          "metadata": {},
          "execution_count": 10
        }
      ],
      "source": [
        "from sklearn.linear_model import LinearRegression\n",
        "regressor1 = LinearRegression()\n",
        "regressor1.fit(x1_train, y1_train)"
      ]
    },
    {
      "cell_type": "markdown",
      "source": [
        "# INDUSTRY2"
      ],
      "metadata": {
        "id": "qmtm3rKFK2gX"
      }
    },
    {
      "cell_type": "code",
      "execution_count": 11,
      "metadata": {
        "colab": {
          "base_uri": "https://localhost:8080/",
          "height": 75
        },
        "outputId": "4a197fc2-22f9-4a72-dc6e-522c005f4ae5",
        "id": "YpTDRVH_KhBU"
      },
      "outputs": [
        {
          "output_type": "execute_result",
          "data": {
            "text/plain": [
              "LinearRegression()"
            ],
            "text/html": [
              "<style>#sk-container-id-2 {color: black;background-color: white;}#sk-container-id-2 pre{padding: 0;}#sk-container-id-2 div.sk-toggleable {background-color: white;}#sk-container-id-2 label.sk-toggleable__label {cursor: pointer;display: block;width: 100%;margin-bottom: 0;padding: 0.3em;box-sizing: border-box;text-align: center;}#sk-container-id-2 label.sk-toggleable__label-arrow:before {content: \"▸\";float: left;margin-right: 0.25em;color: #696969;}#sk-container-id-2 label.sk-toggleable__label-arrow:hover:before {color: black;}#sk-container-id-2 div.sk-estimator:hover label.sk-toggleable__label-arrow:before {color: black;}#sk-container-id-2 div.sk-toggleable__content {max-height: 0;max-width: 0;overflow: hidden;text-align: left;background-color: #f0f8ff;}#sk-container-id-2 div.sk-toggleable__content pre {margin: 0.2em;color: black;border-radius: 0.25em;background-color: #f0f8ff;}#sk-container-id-2 input.sk-toggleable__control:checked~div.sk-toggleable__content {max-height: 200px;max-width: 100%;overflow: auto;}#sk-container-id-2 input.sk-toggleable__control:checked~label.sk-toggleable__label-arrow:before {content: \"▾\";}#sk-container-id-2 div.sk-estimator input.sk-toggleable__control:checked~label.sk-toggleable__label {background-color: #d4ebff;}#sk-container-id-2 div.sk-label input.sk-toggleable__control:checked~label.sk-toggleable__label {background-color: #d4ebff;}#sk-container-id-2 input.sk-hidden--visually {border: 0;clip: rect(1px 1px 1px 1px);clip: rect(1px, 1px, 1px, 1px);height: 1px;margin: -1px;overflow: hidden;padding: 0;position: absolute;width: 1px;}#sk-container-id-2 div.sk-estimator {font-family: monospace;background-color: #f0f8ff;border: 1px dotted black;border-radius: 0.25em;box-sizing: border-box;margin-bottom: 0.5em;}#sk-container-id-2 div.sk-estimator:hover {background-color: #d4ebff;}#sk-container-id-2 div.sk-parallel-item::after {content: \"\";width: 100%;border-bottom: 1px solid gray;flex-grow: 1;}#sk-container-id-2 div.sk-label:hover label.sk-toggleable__label {background-color: #d4ebff;}#sk-container-id-2 div.sk-serial::before {content: \"\";position: absolute;border-left: 1px solid gray;box-sizing: border-box;top: 0;bottom: 0;left: 50%;z-index: 0;}#sk-container-id-2 div.sk-serial {display: flex;flex-direction: column;align-items: center;background-color: white;padding-right: 0.2em;padding-left: 0.2em;position: relative;}#sk-container-id-2 div.sk-item {position: relative;z-index: 1;}#sk-container-id-2 div.sk-parallel {display: flex;align-items: stretch;justify-content: center;background-color: white;position: relative;}#sk-container-id-2 div.sk-item::before, #sk-container-id-2 div.sk-parallel-item::before {content: \"\";position: absolute;border-left: 1px solid gray;box-sizing: border-box;top: 0;bottom: 0;left: 50%;z-index: -1;}#sk-container-id-2 div.sk-parallel-item {display: flex;flex-direction: column;z-index: 1;position: relative;background-color: white;}#sk-container-id-2 div.sk-parallel-item:first-child::after {align-self: flex-end;width: 50%;}#sk-container-id-2 div.sk-parallel-item:last-child::after {align-self: flex-start;width: 50%;}#sk-container-id-2 div.sk-parallel-item:only-child::after {width: 0;}#sk-container-id-2 div.sk-dashed-wrapped {border: 1px dashed gray;margin: 0 0.4em 0.5em 0.4em;box-sizing: border-box;padding-bottom: 0.4em;background-color: white;}#sk-container-id-2 div.sk-label label {font-family: monospace;font-weight: bold;display: inline-block;line-height: 1.2em;}#sk-container-id-2 div.sk-label-container {text-align: center;}#sk-container-id-2 div.sk-container {/* jupyter's `normalize.less` sets `[hidden] { display: none; }` but bootstrap.min.css set `[hidden] { display: none !important; }` so we also need the `!important` here to be able to override the default hidden behavior on the sphinx rendered scikit-learn.org. See: https://github.com/scikit-learn/scikit-learn/issues/21755 */display: inline-block !important;position: relative;}#sk-container-id-2 div.sk-text-repr-fallback {display: none;}</style><div id=\"sk-container-id-2\" class=\"sk-top-container\"><div class=\"sk-text-repr-fallback\"><pre>LinearRegression()</pre><b>In a Jupyter environment, please rerun this cell to show the HTML representation or trust the notebook. <br />On GitHub, the HTML representation is unable to render, please try loading this page with nbviewer.org.</b></div><div class=\"sk-container\" hidden><div class=\"sk-item\"><div class=\"sk-estimator sk-toggleable\"><input class=\"sk-toggleable__control sk-hidden--visually\" id=\"sk-estimator-id-2\" type=\"checkbox\" checked><label for=\"sk-estimator-id-2\" class=\"sk-toggleable__label sk-toggleable__label-arrow\">LinearRegression</label><div class=\"sk-toggleable__content\"><pre>LinearRegression()</pre></div></div></div></div></div>"
            ]
          },
          "metadata": {},
          "execution_count": 11
        }
      ],
      "source": [
        "from sklearn.linear_model import LinearRegression\n",
        "regressor2 = LinearRegression()\n",
        "regressor2.fit(x2_train, y2_train)"
      ]
    },
    {
      "cell_type": "markdown",
      "metadata": {
        "id": "corporate-haiti"
      },
      "source": [
        "# Visualising the Training set results"
      ]
    },
    {
      "cell_type": "markdown",
      "source": [
        "# INDUSTRY1"
      ],
      "metadata": {
        "id": "JssyACvHLJoF"
      }
    },
    {
      "cell_type": "code",
      "execution_count": 12,
      "metadata": {
        "id": "adolescent-uncle",
        "outputId": "3673088c-bf5e-42d0-d4ed-ad569ac95f27",
        "colab": {
          "base_uri": "https://localhost:8080/",
          "height": 472
        }
      },
      "outputs": [
        {
          "output_type": "display_data",
          "data": {
            "text/plain": [
              "<Figure size 640x480 with 1 Axes>"
            ],
            "image/png": "[encoded data removed]"
          },
          "metadata": {}
        }
      ],
      "source": [
        "plt.scatter(x1_train, y1_train, color = 'red')\n",
        "plt.plot(x1_train, regressor1.predict(x1_train), color = 'black')\n",
        "plt.title('Temperature of GCAG (Training set)')\n",
        "plt.xlabel('Years')\n",
        "plt.ylabel('Mean')\n",
        "plt.show()"
      ]
    },
    {
      "cell_type": "markdown",
      "source": [
        "# INDUSTRY2"
      ],
      "metadata": {
        "id": "66NVRaSsLTDG"
      }
    },
    {
      "cell_type": "code",
      "execution_count": 13,
      "metadata": {
        "outputId": "47e29875-7856-4185-da85-757fc4e48f9f",
        "colab": {
          "base_uri": "https://localhost:8080/",
          "height": 472
        },
        "id": "DZtIBvr8LX-1"
      },
      "outputs": [
        {
          "output_type": "display_data",
          "data": {
            "text/plain": [
              "<Figure size 640x480 with 1 Axes>"
            ],
            "image/png": "[encoded data removed]"
          },
          "metadata": {}
        }
      ],
      "source": [
        "plt.scatter(x2_train, y2_train, color = 'red')\n",
        "plt.plot(x2_train, regressor2.predict(x2_train), color = 'black')\n",
        "plt.title('Temperature of GISTEMP (Training set)')\n",
        "plt.xlabel('Years ')\n",
        "plt.ylabel('Mean')\n",
        "plt.show()"
      ]
    },
    {
      "cell_type": "markdown",
      "metadata": {
        "id": "becoming-montreal"
      },
      "source": [
        "# Visualising the Testing set results"
      ]
    },
    {
      "cell_type": "markdown",
      "source": [
        "# INDUSTRY1"
      ],
      "metadata": {
        "id": "k7bSqW83N9LR"
      }
    },
    {
      "cell_type": "code",
      "execution_count": 14,
      "metadata": {
        "outputId": "75838400-0274-4c9f-a46c-3ed5e5e627ce",
        "colab": {
          "base_uri": "https://localhost:8080/",
          "height": 472
        },
        "id": "FldRjSaaOMEk"
      },
      "outputs": [
        {
          "output_type": "display_data",
          "data": {
            "text/plain": [
              "<Figure size 640x480 with 1 Axes>"
            ],
            "image/png": "[encoded data removed]"
          },
          "metadata": {}
        }
      ],
      "source": [
        "plt.scatter(x1_test, y1_test, color = 'red')\n",
        "plt.plot(x1_train, regressor1.predict(x1_train), color = 'black')\n",
        "plt.title('Temperature of GCAG (Testing set)')\n",
        "plt.xlabel('Years ')\n",
        "plt.ylabel('Mean')\n",
        "plt.show()"
      ]
    },
    {
      "cell_type": "markdown",
      "source": [
        "# INDUSTRY2"
      ],
      "metadata": {
        "id": "fFOF6CBnOCrc"
      }
    },
    {
      "cell_type": "code",
      "execution_count": 15,
      "metadata": {
        "outputId": "398adc1d-c221-4f06-e202-6c2569f5936c",
        "colab": {
          "base_uri": "https://localhost:8080/",
          "height": 472
        },
        "id": "mMQuiqkWOOXj"
      },
      "outputs": [
        {
          "output_type": "display_data",
          "data": {
            "text/plain": [
              "<Figure size 640x480 with 1 Axes>"
            ],
            "image/png": "[encoded data removed]"
          },
          "metadata": {}
        }
      ],
      "source": [
        "plt.scatter(x2_test, y2_test, color = 'red')\n",
        "plt.plot(x2_train, regressor2.predict(x2_train), color = 'black')\n",
        "plt.title('Temperature of GISTEMP (Testing set)')\n",
        "plt.xlabel('Years ')\n",
        "plt.ylabel('Mean')\n",
        "plt.show()"
      ]
    },
    {
      "cell_type": "markdown",
      "metadata": {
        "id": "robust-plaza"
      },
      "source": [
        "# Prediction"
      ]
    },
    {
      "cell_type": "code",
      "execution_count": 16,
      "metadata": {
        "colab": {
          "base_uri": "https://localhost:8080/"
        },
        "id": "seventh-toronto",
        "outputId": "784cb61f-d86f-48a0-89b6-793626b703c2"
      },
      "outputs": [
        {
          "output_type": "stream",
          "name": "stdout",
          "text": [
            "[0.525816]\n"
          ]
        }
      ],
      "source": [
        "print(regressor1.predict([[2017]]))"
      ]
    },
    {
      "cell_type": "code",
      "execution_count": 17,
      "metadata": {
        "colab": {
          "base_uri": "https://localhost:8080/"
        },
        "outputId": "9e1d8b4f-e8c3-4c60-aff8-ad2d1a7a1ae5",
        "id": "rLzEHKkyXhPE"
      },
      "outputs": [
        {
          "output_type": "stream",
          "name": "stdout",
          "text": [
            "[0.52232272]\n"
          ]
        }
      ],
      "source": [
        "print(regressor2.predict([[2017]]))"
      ]
    }
  ]
}